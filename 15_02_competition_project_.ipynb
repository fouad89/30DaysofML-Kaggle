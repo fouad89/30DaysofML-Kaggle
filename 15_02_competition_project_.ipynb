{
  "nbformat": 4,
  "nbformat_minor": 0,
  "metadata": {
    "orig_nbformat": 4,
    "language_info": {
      "name": "python",
      "version": "3.7.6",
      "mimetype": "text/x-python",
      "codemirror_mode": {
        "name": "ipython",
        "version": 3
      },
      "pygments_lexer": "ipython3",
      "nbconvert_exporter": "python",
      "file_extension": ".py"
    },
    "kernelspec": {
      "name": "python3",
      "display_name": "Python 3.7.6 64-bit ('base': conda)"
    },
    "interpreter": {
      "hash": "016f416f43c7de9d71e7f049375c6b8b903fae571cb02d2ed6c16dadea121115"
    },
    "colab": {
      "name": "15-02_competition_project .ipynb",
      "provenance": [],
      "collapsed_sections": [],
      "include_colab_link": true
    }
  },
  "cells": [
    {
      "cell_type": "markdown",
      "metadata": {
        "id": "view-in-github",
        "colab_type": "text"
      },
      "source": [
        "<a href=\"https://colab.research.google.com/github/fouad89/30DaysofML-Kaggle/blob/master/15_02_competition_project_.ipynb\" target=\"_parent\"><img src=\"https://colab.research.google.com/assets/colab-badge.svg\" alt=\"Open In Colab\"/></a>"
      ]
    },
    {
      "cell_type": "code",
      "metadata": {
        "colab": {
          "base_uri": "https://localhost:8080/"
        },
        "id": "FeZXk9xlGyYa",
        "outputId": "27703ff5-fe93-43c2-f21a-34d0da492dd4"
      },
      "source": [
        "# reading data from google drive \n",
        "from google.colab import drive\n",
        "drive.mount('/content/drive')"
      ],
      "execution_count": 2,
      "outputs": [
        {
          "output_type": "stream",
          "text": [
            "Mounted at /content/drive\n"
          ],
          "name": "stdout"
        }
      ]
    },
    {
      "cell_type": "code",
      "metadata": {
        "id": "RWEQJbdUWEyJ"
      },
      "source": [
        "\n",
        "# library imports\n",
        "import numpy as np \n",
        "import pandas as pd \n",
        "import matplotlib.pyplot as plt\n",
        "import os\n",
        "\n",
        "# preprocessing\n",
        "from sklearn.model_selection import train_test_split, cross_val_score\n",
        "from sklearn.impute import SimpleImputer\n",
        "from sklearn.preprocessing import StandardScaler, OneHotEncoder\n",
        "from sklearn.pipeline import Pipeline\n",
        "from sklearn.compose import ColumnTransformer\n",
        "\n",
        "# modeling\n",
        "from sklearn.ensemble import RandomForestRegressor\n",
        "from xgboost import XGBRegressor\n",
        "\n",
        "# evaluation\n",
        "from sklearn.metrics import mean_absolute_error"
      ],
      "execution_count": 3,
      "outputs": []
    },
    {
      "cell_type": "code",
      "metadata": {
        "id": "8tFJTMuLHU7j"
      },
      "source": [
        "COMPETETION_PATH = \"/content/drive/MyDrive/30-days-of-ml-competition1\"\n",
        "TRAIN_DATA_PATH = \"/content/drive/MyDrive/30-days-of-ml-competition1/data/train.csv\"\n",
        "TEST_DATA_PATH = \"/content/drive/MyDrive/30-days-of-ml-competition1/data/test.csv\"\n",
        "OUTPUT_PATH = \"/content/drive/MyDrive/30-days-of-ml-competition1/output\""
      ],
      "execution_count": 7,
      "outputs": []
    },
    {
      "cell_type": "code",
      "metadata": {
        "id": "DYZq5STmWEyK"
      },
      "source": [
        "# # Data Paths\n",
        "# TRAIN_DATA_PATH = os.path.join(\"data\", \"train.csv\")\n",
        "# TEST_DATA_PATH = os.path.join(\"data\", \"test.csv\")"
      ],
      "execution_count": 4,
      "outputs": []
    },
    {
      "cell_type": "markdown",
      "metadata": {
        "id": "QIQ6r3X1WEyK"
      },
      "source": [
        "## Understanding Data"
      ]
    },
    {
      "cell_type": "code",
      "metadata": {
        "id": "BSvR4ju2WEyL"
      },
      "source": [
        "full_df = pd.read_csv(TRAIN_DATA_PATH, index_col=\"id\")\n",
        "full_X_test = pd.read_csv(TEST_DATA_PATH, index_col=\"id\")"
      ],
      "execution_count": 9,
      "outputs": []
    },
    {
      "cell_type": "code",
      "metadata": {
        "colab": {
          "base_uri": "https://localhost:8080/"
        },
        "id": "EPE1QxjrWEyM",
        "outputId": "700b56a3-29d7-4fda-d391-7b4916aa53c1"
      },
      "source": [
        "# Exploring the data\n",
        "print(f\"Shape of the full dataset {full_df.shape}\")\n",
        "print(f\"Shape of the test dataset {full_X_test.shape}\")"
      ],
      "execution_count": 10,
      "outputs": [
        {
          "output_type": "stream",
          "text": [
            "Shape of the full dataset (300000, 25)\n",
            "Shape of the test dataset (200000, 24)\n"
          ],
          "name": "stdout"
        }
      ]
    },
    {
      "cell_type": "code",
      "metadata": {
        "colab": {
          "base_uri": "https://localhost:8080/",
          "height": 317
        },
        "id": "DoPvYqELWEyM",
        "outputId": "deb65e5b-e78f-4044-a4c8-03c61bb9e6aa"
      },
      "source": [
        "full_df.describe()"
      ],
      "execution_count": 11,
      "outputs": [
        {
          "output_type": "execute_result",
          "data": {
            "text/html": [
              "<div>\n",
              "<style scoped>\n",
              "    .dataframe tbody tr th:only-of-type {\n",
              "        vertical-align: middle;\n",
              "    }\n",
              "\n",
              "    .dataframe tbody tr th {\n",
              "        vertical-align: top;\n",
              "    }\n",
              "\n",
              "    .dataframe thead th {\n",
              "        text-align: right;\n",
              "    }\n",
              "</style>\n",
              "<table border=\"1\" class=\"dataframe\">\n",
              "  <thead>\n",
              "    <tr style=\"text-align: right;\">\n",
              "      <th></th>\n",
              "      <th>cont0</th>\n",
              "      <th>cont1</th>\n",
              "      <th>cont2</th>\n",
              "      <th>cont3</th>\n",
              "      <th>cont4</th>\n",
              "      <th>cont5</th>\n",
              "      <th>cont6</th>\n",
              "      <th>cont7</th>\n",
              "      <th>cont8</th>\n",
              "      <th>cont9</th>\n",
              "      <th>cont10</th>\n",
              "      <th>cont11</th>\n",
              "      <th>cont12</th>\n",
              "      <th>cont13</th>\n",
              "      <th>target</th>\n",
              "    </tr>\n",
              "  </thead>\n",
              "  <tbody>\n",
              "    <tr>\n",
              "      <th>count</th>\n",
              "      <td>300000.000000</td>\n",
              "      <td>300000.000000</td>\n",
              "      <td>300000.000000</td>\n",
              "      <td>300000.000000</td>\n",
              "      <td>300000.000000</td>\n",
              "      <td>300000.000000</td>\n",
              "      <td>300000.000000</td>\n",
              "      <td>300000.000000</td>\n",
              "      <td>300000.000000</td>\n",
              "      <td>300000.000000</td>\n",
              "      <td>300000.000000</td>\n",
              "      <td>300000.000000</td>\n",
              "      <td>300000.000000</td>\n",
              "      <td>300000.000000</td>\n",
              "      <td>300000.000000</td>\n",
              "    </tr>\n",
              "    <tr>\n",
              "      <th>mean</th>\n",
              "      <td>0.527335</td>\n",
              "      <td>0.460926</td>\n",
              "      <td>0.490498</td>\n",
              "      <td>0.496689</td>\n",
              "      <td>0.491654</td>\n",
              "      <td>0.510526</td>\n",
              "      <td>0.467476</td>\n",
              "      <td>0.537119</td>\n",
              "      <td>0.498456</td>\n",
              "      <td>0.474872</td>\n",
              "      <td>0.474492</td>\n",
              "      <td>0.473216</td>\n",
              "      <td>0.494561</td>\n",
              "      <td>0.508273</td>\n",
              "      <td>8.241979</td>\n",
              "    </tr>\n",
              "    <tr>\n",
              "      <th>std</th>\n",
              "      <td>0.230599</td>\n",
              "      <td>0.214003</td>\n",
              "      <td>0.253346</td>\n",
              "      <td>0.219199</td>\n",
              "      <td>0.240074</td>\n",
              "      <td>0.228232</td>\n",
              "      <td>0.210331</td>\n",
              "      <td>0.218140</td>\n",
              "      <td>0.239920</td>\n",
              "      <td>0.218007</td>\n",
              "      <td>0.255949</td>\n",
              "      <td>0.222022</td>\n",
              "      <td>0.247292</td>\n",
              "      <td>0.222950</td>\n",
              "      <td>0.746555</td>\n",
              "    </tr>\n",
              "    <tr>\n",
              "      <th>min</th>\n",
              "      <td>-0.118039</td>\n",
              "      <td>-0.069309</td>\n",
              "      <td>-0.056104</td>\n",
              "      <td>0.130676</td>\n",
              "      <td>0.255908</td>\n",
              "      <td>0.045915</td>\n",
              "      <td>-0.224689</td>\n",
              "      <td>0.203763</td>\n",
              "      <td>-0.260275</td>\n",
              "      <td>0.117896</td>\n",
              "      <td>0.048732</td>\n",
              "      <td>0.052608</td>\n",
              "      <td>-0.074208</td>\n",
              "      <td>0.151050</td>\n",
              "      <td>0.140329</td>\n",
              "    </tr>\n",
              "    <tr>\n",
              "      <th>25%</th>\n",
              "      <td>0.405965</td>\n",
              "      <td>0.310494</td>\n",
              "      <td>0.300604</td>\n",
              "      <td>0.329783</td>\n",
              "      <td>0.284188</td>\n",
              "      <td>0.354141</td>\n",
              "      <td>0.342873</td>\n",
              "      <td>0.355825</td>\n",
              "      <td>0.332486</td>\n",
              "      <td>0.306874</td>\n",
              "      <td>0.276017</td>\n",
              "      <td>0.308151</td>\n",
              "      <td>0.289074</td>\n",
              "      <td>0.300669</td>\n",
              "      <td>7.742071</td>\n",
              "    </tr>\n",
              "    <tr>\n",
              "      <th>50%</th>\n",
              "      <td>0.497053</td>\n",
              "      <td>0.427903</td>\n",
              "      <td>0.502462</td>\n",
              "      <td>0.465026</td>\n",
              "      <td>0.390470</td>\n",
              "      <td>0.488865</td>\n",
              "      <td>0.429383</td>\n",
              "      <td>0.504661</td>\n",
              "      <td>0.439151</td>\n",
              "      <td>0.434620</td>\n",
              "      <td>0.459975</td>\n",
              "      <td>0.433812</td>\n",
              "      <td>0.422887</td>\n",
              "      <td>0.472400</td>\n",
              "      <td>8.191373</td>\n",
              "    </tr>\n",
              "    <tr>\n",
              "      <th>75%</th>\n",
              "      <td>0.668060</td>\n",
              "      <td>0.615113</td>\n",
              "      <td>0.647512</td>\n",
              "      <td>0.664451</td>\n",
              "      <td>0.696599</td>\n",
              "      <td>0.669625</td>\n",
              "      <td>0.573383</td>\n",
              "      <td>0.703441</td>\n",
              "      <td>0.606056</td>\n",
              "      <td>0.614333</td>\n",
              "      <td>0.691579</td>\n",
              "      <td>0.642057</td>\n",
              "      <td>0.714502</td>\n",
              "      <td>0.758447</td>\n",
              "      <td>8.728634</td>\n",
              "    </tr>\n",
              "    <tr>\n",
              "      <th>max</th>\n",
              "      <td>1.058443</td>\n",
              "      <td>0.887253</td>\n",
              "      <td>1.034704</td>\n",
              "      <td>1.039560</td>\n",
              "      <td>1.055424</td>\n",
              "      <td>1.067649</td>\n",
              "      <td>1.111552</td>\n",
              "      <td>1.032837</td>\n",
              "      <td>1.040229</td>\n",
              "      <td>0.982922</td>\n",
              "      <td>1.055960</td>\n",
              "      <td>1.071444</td>\n",
              "      <td>0.975035</td>\n",
              "      <td>0.905992</td>\n",
              "      <td>10.411992</td>\n",
              "    </tr>\n",
              "  </tbody>\n",
              "</table>\n",
              "</div>"
            ],
            "text/plain": [
              "               cont0          cont1  ...         cont13         target\n",
              "count  300000.000000  300000.000000  ...  300000.000000  300000.000000\n",
              "mean        0.527335       0.460926  ...       0.508273       8.241979\n",
              "std         0.230599       0.214003  ...       0.222950       0.746555\n",
              "min        -0.118039      -0.069309  ...       0.151050       0.140329\n",
              "25%         0.405965       0.310494  ...       0.300669       7.742071\n",
              "50%         0.497053       0.427903  ...       0.472400       8.191373\n",
              "75%         0.668060       0.615113  ...       0.758447       8.728634\n",
              "max         1.058443       0.887253  ...       0.905992      10.411992\n",
              "\n",
              "[8 rows x 15 columns]"
            ]
          },
          "metadata": {},
          "execution_count": 11
        }
      ]
    },
    {
      "cell_type": "code",
      "metadata": {
        "colab": {
          "base_uri": "https://localhost:8080/"
        },
        "id": "kdF_WWKbWEyN",
        "outputId": "080b4fed-8c0e-4c94-a6db-4a68370bed38"
      },
      "source": [
        "# checking for null values in the full dataset\n",
        "full_df.isnull().any().sum() # no null value in dataset"
      ],
      "execution_count": 12,
      "outputs": [
        {
          "output_type": "execute_result",
          "data": {
            "text/plain": [
              "0"
            ]
          },
          "metadata": {},
          "execution_count": 12
        }
      ]
    },
    {
      "cell_type": "code",
      "metadata": {
        "id": "zmCXXJzhWEyO"
      },
      "source": [
        "y = full_df.target.copy()\n",
        "X = full_df.drop('target', axis=1).copy()"
      ],
      "execution_count": 13,
      "outputs": []
    },
    {
      "cell_type": "code",
      "metadata": {
        "colab": {
          "base_uri": "https://localhost:8080/"
        },
        "id": "9pYa11naWEyP",
        "outputId": "a397bbfd-6b81-44a8-ad1b-42951d594702"
      },
      "source": [
        "X.shape"
      ],
      "execution_count": 14,
      "outputs": [
        {
          "output_type": "execute_result",
          "data": {
            "text/plain": [
              "(300000, 24)"
            ]
          },
          "metadata": {},
          "execution_count": 14
        }
      ]
    },
    {
      "cell_type": "code",
      "metadata": {
        "id": "5pNen2jpWEyP"
      },
      "source": [
        "# splitting the data\n",
        "X_train, X_valid, y_train, y_valid = train_test_split(X,y, test_size=0.2,\n",
        "                                                      random_state= 1)"
      ],
      "execution_count": 15,
      "outputs": []
    },
    {
      "cell_type": "code",
      "metadata": {
        "id": "jfrTIecNWEyQ"
      },
      "source": [
        "# categorical columns start with cat\n",
        "categorical_cols = [cname for cname in X.columns if 'cat' in cname]\n",
        "# numerical columns starts with cont\n",
        "numerical_cols = [cname for cname in X.columns if 'cont' in cname]"
      ],
      "execution_count": 16,
      "outputs": []
    },
    {
      "cell_type": "code",
      "metadata": {
        "colab": {
          "base_uri": "https://localhost:8080/"
        },
        "id": "ulfq78dIWEyQ",
        "outputId": "48990c75-e873-44d5-e444-4a9b109d43f9"
      },
      "source": [
        "\n",
        "# checking the cardinality of the categorical columns\n",
        "for cname in categorical_cols:\n",
        "    num_unique = X[cname].nunique()\n",
        "    print(f\"{cname} has {num_unique}\")\n",
        "    if num_unique > 10:\n",
        "        print(f\"\\t{cname} has a high cardinality\")\n",
        "\n",
        "# eventhough cat9 col has more than 10 unique values, we will still use the OnehotEncoder "
      ],
      "execution_count": 17,
      "outputs": [
        {
          "output_type": "stream",
          "text": [
            "cat0 has 2\n",
            "cat1 has 2\n",
            "cat2 has 2\n",
            "cat3 has 4\n",
            "cat4 has 4\n",
            "cat5 has 4\n",
            "cat6 has 8\n",
            "cat7 has 8\n",
            "cat8 has 7\n",
            "cat9 has 15\n",
            "\tcat9 has a high cardinality\n"
          ],
          "name": "stdout"
        }
      ]
    },
    {
      "cell_type": "code",
      "metadata": {
        "id": "_1xzYnaFWEyR"
      },
      "source": [
        "# numerical and categorical transformations\n",
        "num_transformer = StandardScaler()\n",
        "cat_transformer = OneHotEncoder(handle_unknown=\"ignore\")\n",
        "preprocessor = ColumnTransformer(transformers=[\n",
        "    ('num', num_transformer, numerical_cols),\n",
        "    ('cat', cat_transformer, categorical_cols),\n",
        "])\n"
      ],
      "execution_count": 18,
      "outputs": []
    },
    {
      "cell_type": "code",
      "metadata": {
        "id": "KQneu3ZsWEyR"
      },
      "source": [
        "# random forest model & pipeline with default values \n",
        "rf_model = RandomForestRegressor(random_state=1)\n",
        "rf_pipeline = Pipeline(steps=[\n",
        "    ('preprocessor', preprocessor),\n",
        "    ('model', rf_model),\n",
        "])"
      ],
      "execution_count": 19,
      "outputs": []
    },
    {
      "cell_type": "code",
      "metadata": {
        "colab": {
          "base_uri": "https://localhost:8080/",
          "height": 324
        },
        "id": "qeuCwzv6WEyR",
        "outputId": "39bb8137-2f50-4dac-92cc-cd7dafc49e41"
      },
      "source": [
        "# fitting the first model\n",
        "rf_pipeline.fit(X_train, y_train)"
      ],
      "execution_count": 20,
      "outputs": [
        {
          "output_type": "error",
          "ename": "KeyboardInterrupt",
          "evalue": "ignored",
          "traceback": [
            "\u001b[0;31m---------------------------------------------------------------------------\u001b[0m",
            "\u001b[0;31mKeyboardInterrupt\u001b[0m                         Traceback (most recent call last)",
            "\u001b[0;32m<ipython-input-20-37e6f1dd6803>\u001b[0m in \u001b[0;36m<module>\u001b[0;34m()\u001b[0m\n\u001b[1;32m      1\u001b[0m \u001b[0;31m# fitting the first model\u001b[0m\u001b[0;34m\u001b[0m\u001b[0;34m\u001b[0m\u001b[0;34m\u001b[0m\u001b[0m\n\u001b[0;32m----> 2\u001b[0;31m \u001b[0mrf_pipeline\u001b[0m\u001b[0;34m.\u001b[0m\u001b[0mfit\u001b[0m\u001b[0;34m(\u001b[0m\u001b[0mX_train\u001b[0m\u001b[0;34m,\u001b[0m \u001b[0my_train\u001b[0m\u001b[0;34m)\u001b[0m\u001b[0;34m\u001b[0m\u001b[0;34m\u001b[0m\u001b[0m\n\u001b[0m",
            "\u001b[0;32m/usr/local/lib/python3.7/dist-packages/sklearn/pipeline.py\u001b[0m in \u001b[0;36mfit\u001b[0;34m(self, X, y, **fit_params)\u001b[0m\n\u001b[1;32m    352\u001b[0m                                  self._log_message(len(self.steps) - 1)):\n\u001b[1;32m    353\u001b[0m             \u001b[0;32mif\u001b[0m \u001b[0mself\u001b[0m\u001b[0;34m.\u001b[0m\u001b[0m_final_estimator\u001b[0m \u001b[0;34m!=\u001b[0m \u001b[0;34m'passthrough'\u001b[0m\u001b[0;34m:\u001b[0m\u001b[0;34m\u001b[0m\u001b[0;34m\u001b[0m\u001b[0m\n\u001b[0;32m--> 354\u001b[0;31m                 \u001b[0mself\u001b[0m\u001b[0;34m.\u001b[0m\u001b[0m_final_estimator\u001b[0m\u001b[0;34m.\u001b[0m\u001b[0mfit\u001b[0m\u001b[0;34m(\u001b[0m\u001b[0mXt\u001b[0m\u001b[0;34m,\u001b[0m \u001b[0my\u001b[0m\u001b[0;34m,\u001b[0m \u001b[0;34m**\u001b[0m\u001b[0mfit_params\u001b[0m\u001b[0;34m)\u001b[0m\u001b[0;34m\u001b[0m\u001b[0;34m\u001b[0m\u001b[0m\n\u001b[0m\u001b[1;32m    355\u001b[0m         \u001b[0;32mreturn\u001b[0m \u001b[0mself\u001b[0m\u001b[0;34m\u001b[0m\u001b[0;34m\u001b[0m\u001b[0m\n\u001b[1;32m    356\u001b[0m \u001b[0;34m\u001b[0m\u001b[0m\n",
            "\u001b[0;32m/usr/local/lib/python3.7/dist-packages/sklearn/ensemble/_forest.py\u001b[0m in \u001b[0;36mfit\u001b[0;34m(self, X, y, sample_weight)\u001b[0m\n\u001b[1;32m    381\u001b[0m                     \u001b[0mverbose\u001b[0m\u001b[0;34m=\u001b[0m\u001b[0mself\u001b[0m\u001b[0;34m.\u001b[0m\u001b[0mverbose\u001b[0m\u001b[0;34m,\u001b[0m \u001b[0mclass_weight\u001b[0m\u001b[0;34m=\u001b[0m\u001b[0mself\u001b[0m\u001b[0;34m.\u001b[0m\u001b[0mclass_weight\u001b[0m\u001b[0;34m,\u001b[0m\u001b[0;34m\u001b[0m\u001b[0;34m\u001b[0m\u001b[0m\n\u001b[1;32m    382\u001b[0m                     n_samples_bootstrap=n_samples_bootstrap)\n\u001b[0;32m--> 383\u001b[0;31m                 for i, t in enumerate(trees))\n\u001b[0m\u001b[1;32m    384\u001b[0m \u001b[0;34m\u001b[0m\u001b[0m\n\u001b[1;32m    385\u001b[0m             \u001b[0;31m# Collect newly grown trees\u001b[0m\u001b[0;34m\u001b[0m\u001b[0;34m\u001b[0m\u001b[0;34m\u001b[0m\u001b[0m\n",
            "\u001b[0;32m/usr/local/lib/python3.7/dist-packages/joblib/parallel.py\u001b[0m in \u001b[0;36m__call__\u001b[0;34m(self, iterable)\u001b[0m\n\u001b[1;32m   1042\u001b[0m                 \u001b[0mself\u001b[0m\u001b[0;34m.\u001b[0m\u001b[0m_iterating\u001b[0m \u001b[0;34m=\u001b[0m \u001b[0mself\u001b[0m\u001b[0;34m.\u001b[0m\u001b[0m_original_iterator\u001b[0m \u001b[0;32mis\u001b[0m \u001b[0;32mnot\u001b[0m \u001b[0;32mNone\u001b[0m\u001b[0;34m\u001b[0m\u001b[0;34m\u001b[0m\u001b[0m\n\u001b[1;32m   1043\u001b[0m \u001b[0;34m\u001b[0m\u001b[0m\n\u001b[0;32m-> 1044\u001b[0;31m             \u001b[0;32mwhile\u001b[0m \u001b[0mself\u001b[0m\u001b[0;34m.\u001b[0m\u001b[0mdispatch_one_batch\u001b[0m\u001b[0;34m(\u001b[0m\u001b[0miterator\u001b[0m\u001b[0;34m)\u001b[0m\u001b[0;34m:\u001b[0m\u001b[0;34m\u001b[0m\u001b[0;34m\u001b[0m\u001b[0m\n\u001b[0m\u001b[1;32m   1045\u001b[0m                 \u001b[0;32mpass\u001b[0m\u001b[0;34m\u001b[0m\u001b[0;34m\u001b[0m\u001b[0m\n\u001b[1;32m   1046\u001b[0m \u001b[0;34m\u001b[0m\u001b[0m\n",
            "\u001b[0;32m/usr/local/lib/python3.7/dist-packages/joblib/parallel.py\u001b[0m in \u001b[0;36mdispatch_one_batch\u001b[0;34m(self, iterator)\u001b[0m\n\u001b[1;32m    857\u001b[0m                 \u001b[0;32mreturn\u001b[0m \u001b[0;32mFalse\u001b[0m\u001b[0;34m\u001b[0m\u001b[0;34m\u001b[0m\u001b[0m\n\u001b[1;32m    858\u001b[0m             \u001b[0;32melse\u001b[0m\u001b[0;34m:\u001b[0m\u001b[0;34m\u001b[0m\u001b[0;34m\u001b[0m\u001b[0m\n\u001b[0;32m--> 859\u001b[0;31m                 \u001b[0mself\u001b[0m\u001b[0;34m.\u001b[0m\u001b[0m_dispatch\u001b[0m\u001b[0;34m(\u001b[0m\u001b[0mtasks\u001b[0m\u001b[0;34m)\u001b[0m\u001b[0;34m\u001b[0m\u001b[0;34m\u001b[0m\u001b[0m\n\u001b[0m\u001b[1;32m    860\u001b[0m                 \u001b[0;32mreturn\u001b[0m \u001b[0;32mTrue\u001b[0m\u001b[0;34m\u001b[0m\u001b[0;34m\u001b[0m\u001b[0m\n\u001b[1;32m    861\u001b[0m \u001b[0;34m\u001b[0m\u001b[0m\n",
            "\u001b[0;32m/usr/local/lib/python3.7/dist-packages/joblib/parallel.py\u001b[0m in \u001b[0;36m_dispatch\u001b[0;34m(self, batch)\u001b[0m\n\u001b[1;32m    775\u001b[0m         \u001b[0;32mwith\u001b[0m \u001b[0mself\u001b[0m\u001b[0;34m.\u001b[0m\u001b[0m_lock\u001b[0m\u001b[0;34m:\u001b[0m\u001b[0;34m\u001b[0m\u001b[0;34m\u001b[0m\u001b[0m\n\u001b[1;32m    776\u001b[0m             \u001b[0mjob_idx\u001b[0m \u001b[0;34m=\u001b[0m \u001b[0mlen\u001b[0m\u001b[0;34m(\u001b[0m\u001b[0mself\u001b[0m\u001b[0;34m.\u001b[0m\u001b[0m_jobs\u001b[0m\u001b[0;34m)\u001b[0m\u001b[0;34m\u001b[0m\u001b[0;34m\u001b[0m\u001b[0m\n\u001b[0;32m--> 777\u001b[0;31m             \u001b[0mjob\u001b[0m \u001b[0;34m=\u001b[0m \u001b[0mself\u001b[0m\u001b[0;34m.\u001b[0m\u001b[0m_backend\u001b[0m\u001b[0;34m.\u001b[0m\u001b[0mapply_async\u001b[0m\u001b[0;34m(\u001b[0m\u001b[0mbatch\u001b[0m\u001b[0;34m,\u001b[0m \u001b[0mcallback\u001b[0m\u001b[0;34m=\u001b[0m\u001b[0mcb\u001b[0m\u001b[0;34m)\u001b[0m\u001b[0;34m\u001b[0m\u001b[0;34m\u001b[0m\u001b[0m\n\u001b[0m\u001b[1;32m    778\u001b[0m             \u001b[0;31m# A job can complete so quickly than its callback is\u001b[0m\u001b[0;34m\u001b[0m\u001b[0;34m\u001b[0m\u001b[0;34m\u001b[0m\u001b[0m\n\u001b[1;32m    779\u001b[0m             \u001b[0;31m# called before we get here, causing self._jobs to\u001b[0m\u001b[0;34m\u001b[0m\u001b[0;34m\u001b[0m\u001b[0;34m\u001b[0m\u001b[0m\n",
            "\u001b[0;32m/usr/local/lib/python3.7/dist-packages/joblib/_parallel_backends.py\u001b[0m in \u001b[0;36mapply_async\u001b[0;34m(self, func, callback)\u001b[0m\n\u001b[1;32m    206\u001b[0m     \u001b[0;32mdef\u001b[0m \u001b[0mapply_async\u001b[0m\u001b[0;34m(\u001b[0m\u001b[0mself\u001b[0m\u001b[0;34m,\u001b[0m \u001b[0mfunc\u001b[0m\u001b[0;34m,\u001b[0m \u001b[0mcallback\u001b[0m\u001b[0;34m=\u001b[0m\u001b[0;32mNone\u001b[0m\u001b[0;34m)\u001b[0m\u001b[0;34m:\u001b[0m\u001b[0;34m\u001b[0m\u001b[0;34m\u001b[0m\u001b[0m\n\u001b[1;32m    207\u001b[0m         \u001b[0;34m\"\"\"Schedule a func to be run\"\"\"\u001b[0m\u001b[0;34m\u001b[0m\u001b[0;34m\u001b[0m\u001b[0m\n\u001b[0;32m--> 208\u001b[0;31m         \u001b[0mresult\u001b[0m \u001b[0;34m=\u001b[0m \u001b[0mImmediateResult\u001b[0m\u001b[0;34m(\u001b[0m\u001b[0mfunc\u001b[0m\u001b[0;34m)\u001b[0m\u001b[0;34m\u001b[0m\u001b[0;34m\u001b[0m\u001b[0m\n\u001b[0m\u001b[1;32m    209\u001b[0m         \u001b[0;32mif\u001b[0m \u001b[0mcallback\u001b[0m\u001b[0;34m:\u001b[0m\u001b[0;34m\u001b[0m\u001b[0;34m\u001b[0m\u001b[0m\n\u001b[1;32m    210\u001b[0m             \u001b[0mcallback\u001b[0m\u001b[0;34m(\u001b[0m\u001b[0mresult\u001b[0m\u001b[0;34m)\u001b[0m\u001b[0;34m\u001b[0m\u001b[0;34m\u001b[0m\u001b[0m\n",
            "\u001b[0;32m/usr/local/lib/python3.7/dist-packages/joblib/_parallel_backends.py\u001b[0m in \u001b[0;36m__init__\u001b[0;34m(self, batch)\u001b[0m\n\u001b[1;32m    570\u001b[0m         \u001b[0;31m# Don't delay the application, to avoid keeping the input\u001b[0m\u001b[0;34m\u001b[0m\u001b[0;34m\u001b[0m\u001b[0;34m\u001b[0m\u001b[0m\n\u001b[1;32m    571\u001b[0m         \u001b[0;31m# arguments in memory\u001b[0m\u001b[0;34m\u001b[0m\u001b[0;34m\u001b[0m\u001b[0;34m\u001b[0m\u001b[0m\n\u001b[0;32m--> 572\u001b[0;31m         \u001b[0mself\u001b[0m\u001b[0;34m.\u001b[0m\u001b[0mresults\u001b[0m \u001b[0;34m=\u001b[0m \u001b[0mbatch\u001b[0m\u001b[0;34m(\u001b[0m\u001b[0;34m)\u001b[0m\u001b[0;34m\u001b[0m\u001b[0;34m\u001b[0m\u001b[0m\n\u001b[0m\u001b[1;32m    573\u001b[0m \u001b[0;34m\u001b[0m\u001b[0m\n\u001b[1;32m    574\u001b[0m     \u001b[0;32mdef\u001b[0m \u001b[0mget\u001b[0m\u001b[0;34m(\u001b[0m\u001b[0mself\u001b[0m\u001b[0;34m)\u001b[0m\u001b[0;34m:\u001b[0m\u001b[0;34m\u001b[0m\u001b[0;34m\u001b[0m\u001b[0m\n",
            "\u001b[0;32m/usr/local/lib/python3.7/dist-packages/joblib/parallel.py\u001b[0m in \u001b[0;36m__call__\u001b[0;34m(self)\u001b[0m\n\u001b[1;32m    261\u001b[0m         \u001b[0;32mwith\u001b[0m \u001b[0mparallel_backend\u001b[0m\u001b[0;34m(\u001b[0m\u001b[0mself\u001b[0m\u001b[0;34m.\u001b[0m\u001b[0m_backend\u001b[0m\u001b[0;34m,\u001b[0m \u001b[0mn_jobs\u001b[0m\u001b[0;34m=\u001b[0m\u001b[0mself\u001b[0m\u001b[0;34m.\u001b[0m\u001b[0m_n_jobs\u001b[0m\u001b[0;34m)\u001b[0m\u001b[0;34m:\u001b[0m\u001b[0;34m\u001b[0m\u001b[0;34m\u001b[0m\u001b[0m\n\u001b[1;32m    262\u001b[0m             return [func(*args, **kwargs)\n\u001b[0;32m--> 263\u001b[0;31m                     for func, args, kwargs in self.items]\n\u001b[0m\u001b[1;32m    264\u001b[0m \u001b[0;34m\u001b[0m\u001b[0m\n\u001b[1;32m    265\u001b[0m     \u001b[0;32mdef\u001b[0m \u001b[0m__reduce__\u001b[0m\u001b[0;34m(\u001b[0m\u001b[0mself\u001b[0m\u001b[0;34m)\u001b[0m\u001b[0;34m:\u001b[0m\u001b[0;34m\u001b[0m\u001b[0;34m\u001b[0m\u001b[0m\n",
            "\u001b[0;32m/usr/local/lib/python3.7/dist-packages/joblib/parallel.py\u001b[0m in \u001b[0;36m<listcomp>\u001b[0;34m(.0)\u001b[0m\n\u001b[1;32m    261\u001b[0m         \u001b[0;32mwith\u001b[0m \u001b[0mparallel_backend\u001b[0m\u001b[0;34m(\u001b[0m\u001b[0mself\u001b[0m\u001b[0;34m.\u001b[0m\u001b[0m_backend\u001b[0m\u001b[0;34m,\u001b[0m \u001b[0mn_jobs\u001b[0m\u001b[0;34m=\u001b[0m\u001b[0mself\u001b[0m\u001b[0;34m.\u001b[0m\u001b[0m_n_jobs\u001b[0m\u001b[0;34m)\u001b[0m\u001b[0;34m:\u001b[0m\u001b[0;34m\u001b[0m\u001b[0;34m\u001b[0m\u001b[0m\n\u001b[1;32m    262\u001b[0m             return [func(*args, **kwargs)\n\u001b[0;32m--> 263\u001b[0;31m                     for func, args, kwargs in self.items]\n\u001b[0m\u001b[1;32m    264\u001b[0m \u001b[0;34m\u001b[0m\u001b[0m\n\u001b[1;32m    265\u001b[0m     \u001b[0;32mdef\u001b[0m \u001b[0m__reduce__\u001b[0m\u001b[0;34m(\u001b[0m\u001b[0mself\u001b[0m\u001b[0;34m)\u001b[0m\u001b[0;34m:\u001b[0m\u001b[0;34m\u001b[0m\u001b[0;34m\u001b[0m\u001b[0m\n",
            "\u001b[0;32m/usr/local/lib/python3.7/dist-packages/sklearn/ensemble/_forest.py\u001b[0m in \u001b[0;36m_parallel_build_trees\u001b[0;34m(tree, forest, X, y, sample_weight, tree_idx, n_trees, verbose, class_weight, n_samples_bootstrap)\u001b[0m\n\u001b[1;32m    163\u001b[0m             \u001b[0mcurr_sample_weight\u001b[0m \u001b[0;34m*=\u001b[0m \u001b[0mcompute_sample_weight\u001b[0m\u001b[0;34m(\u001b[0m\u001b[0;34m'balanced'\u001b[0m\u001b[0;34m,\u001b[0m \u001b[0my\u001b[0m\u001b[0;34m,\u001b[0m \u001b[0mindices\u001b[0m\u001b[0;34m)\u001b[0m\u001b[0;34m\u001b[0m\u001b[0;34m\u001b[0m\u001b[0m\n\u001b[1;32m    164\u001b[0m \u001b[0;34m\u001b[0m\u001b[0m\n\u001b[0;32m--> 165\u001b[0;31m         \u001b[0mtree\u001b[0m\u001b[0;34m.\u001b[0m\u001b[0mfit\u001b[0m\u001b[0;34m(\u001b[0m\u001b[0mX\u001b[0m\u001b[0;34m,\u001b[0m \u001b[0my\u001b[0m\u001b[0;34m,\u001b[0m \u001b[0msample_weight\u001b[0m\u001b[0;34m=\u001b[0m\u001b[0mcurr_sample_weight\u001b[0m\u001b[0;34m,\u001b[0m \u001b[0mcheck_input\u001b[0m\u001b[0;34m=\u001b[0m\u001b[0;32mFalse\u001b[0m\u001b[0;34m)\u001b[0m\u001b[0;34m\u001b[0m\u001b[0;34m\u001b[0m\u001b[0m\n\u001b[0m\u001b[1;32m    166\u001b[0m     \u001b[0;32melse\u001b[0m\u001b[0;34m:\u001b[0m\u001b[0;34m\u001b[0m\u001b[0;34m\u001b[0m\u001b[0m\n\u001b[1;32m    167\u001b[0m         \u001b[0mtree\u001b[0m\u001b[0;34m.\u001b[0m\u001b[0mfit\u001b[0m\u001b[0;34m(\u001b[0m\u001b[0mX\u001b[0m\u001b[0;34m,\u001b[0m \u001b[0my\u001b[0m\u001b[0;34m,\u001b[0m \u001b[0msample_weight\u001b[0m\u001b[0;34m=\u001b[0m\u001b[0msample_weight\u001b[0m\u001b[0;34m,\u001b[0m \u001b[0mcheck_input\u001b[0m\u001b[0;34m=\u001b[0m\u001b[0;32mFalse\u001b[0m\u001b[0;34m)\u001b[0m\u001b[0;34m\u001b[0m\u001b[0;34m\u001b[0m\u001b[0m\n",
            "\u001b[0;32m/usr/local/lib/python3.7/dist-packages/sklearn/tree/_classes.py\u001b[0m in \u001b[0;36mfit\u001b[0;34m(self, X, y, sample_weight, check_input, X_idx_sorted)\u001b[0m\n\u001b[1;32m   1223\u001b[0m             \u001b[0msample_weight\u001b[0m\u001b[0;34m=\u001b[0m\u001b[0msample_weight\u001b[0m\u001b[0;34m,\u001b[0m\u001b[0;34m\u001b[0m\u001b[0;34m\u001b[0m\u001b[0m\n\u001b[1;32m   1224\u001b[0m             \u001b[0mcheck_input\u001b[0m\u001b[0;34m=\u001b[0m\u001b[0mcheck_input\u001b[0m\u001b[0;34m,\u001b[0m\u001b[0;34m\u001b[0m\u001b[0;34m\u001b[0m\u001b[0m\n\u001b[0;32m-> 1225\u001b[0;31m             X_idx_sorted=X_idx_sorted)\n\u001b[0m\u001b[1;32m   1226\u001b[0m         \u001b[0;32mreturn\u001b[0m \u001b[0mself\u001b[0m\u001b[0;34m\u001b[0m\u001b[0;34m\u001b[0m\u001b[0m\n\u001b[1;32m   1227\u001b[0m \u001b[0;34m\u001b[0m\u001b[0m\n",
            "\u001b[0;32m/usr/local/lib/python3.7/dist-packages/sklearn/tree/_classes.py\u001b[0m in \u001b[0;36mfit\u001b[0;34m(self, X, y, sample_weight, check_input, X_idx_sorted)\u001b[0m\n\u001b[1;32m    365\u001b[0m                                            min_impurity_split)\n\u001b[1;32m    366\u001b[0m \u001b[0;34m\u001b[0m\u001b[0m\n\u001b[0;32m--> 367\u001b[0;31m         \u001b[0mbuilder\u001b[0m\u001b[0;34m.\u001b[0m\u001b[0mbuild\u001b[0m\u001b[0;34m(\u001b[0m\u001b[0mself\u001b[0m\u001b[0;34m.\u001b[0m\u001b[0mtree_\u001b[0m\u001b[0;34m,\u001b[0m \u001b[0mX\u001b[0m\u001b[0;34m,\u001b[0m \u001b[0my\u001b[0m\u001b[0;34m,\u001b[0m \u001b[0msample_weight\u001b[0m\u001b[0;34m,\u001b[0m \u001b[0mX_idx_sorted\u001b[0m\u001b[0;34m)\u001b[0m\u001b[0;34m\u001b[0m\u001b[0;34m\u001b[0m\u001b[0m\n\u001b[0m\u001b[1;32m    368\u001b[0m \u001b[0;34m\u001b[0m\u001b[0m\n\u001b[1;32m    369\u001b[0m         \u001b[0;32mif\u001b[0m \u001b[0mself\u001b[0m\u001b[0;34m.\u001b[0m\u001b[0mn_outputs_\u001b[0m \u001b[0;34m==\u001b[0m \u001b[0;36m1\u001b[0m \u001b[0;32mand\u001b[0m \u001b[0mis_classifier\u001b[0m\u001b[0;34m(\u001b[0m\u001b[0mself\u001b[0m\u001b[0;34m)\u001b[0m\u001b[0;34m:\u001b[0m\u001b[0;34m\u001b[0m\u001b[0;34m\u001b[0m\u001b[0m\n",
            "\u001b[0;31mKeyboardInterrupt\u001b[0m: "
          ]
        }
      ]
    },
    {
      "cell_type": "code",
      "metadata": {
        "colab": {
          "base_uri": "https://localhost:8080/"
        },
        "id": "NVeSzsqAWEyS",
        "outputId": "41753baa-de43-40ad-8c6d-e4e8c1156fb9"
      },
      "source": [
        "# predictions and evaluation\n",
        "rf_predictions = rf_pipeline.predict(X_valid)\n",
        "rf_mae = mean_absolute_error(y_valid, rf_predictions)\n",
        "print(f\"MAE is {rf_mae:0.2f}\")\n"
      ],
      "execution_count": null,
      "outputs": [
        {
          "output_type": "stream",
          "text": [
            "MAE is 0.59\n"
          ],
          "name": "stdout"
        }
      ]
    },
    {
      "cell_type": "code",
      "metadata": {
        "colab": {
          "base_uri": "https://localhost:8080/",
          "height": 375
        },
        "id": "5i8n5Y86WEyS",
        "outputId": "0d1a8adb-38cf-4274-a5d2-fe2be81d420b"
      },
      "source": [
        "\n",
        "# output\n",
        "test_prediction = rf_pipeline.predict(full_X_test)\n",
        "output = pd.DataFrame({\"id\": full_X_test.index,\n",
        "    \"target\": test_prediction})\n",
        "output.to_csv(os.path.join(\"output\", \"submission1.csv\"), index=False)"
      ],
      "execution_count": null,
      "outputs": [
        {
          "output_type": "error",
          "ename": "ValueError",
          "evalue": "ignored",
          "traceback": [
            "\u001b[0;31m---------------------------------------------------------------------------\u001b[0m",
            "\u001b[0;31mValueError\u001b[0m                                Traceback (most recent call last)",
            "\u001b[0;32m<ipython-input-36-ddef390f186e>\u001b[0m in \u001b[0;36m<module>\u001b[0;34m()\u001b[0m\n\u001b[1;32m      1\u001b[0m \u001b[0;34m\u001b[0m\u001b[0m\n\u001b[1;32m      2\u001b[0m \u001b[0;31m# output\u001b[0m\u001b[0;34m\u001b[0m\u001b[0;34m\u001b[0m\u001b[0;34m\u001b[0m\u001b[0m\n\u001b[0;32m----> 3\u001b[0;31m \u001b[0mtest_prediction\u001b[0m \u001b[0;34m=\u001b[0m \u001b[0mrf_pipeline\u001b[0m\u001b[0;34m.\u001b[0m\u001b[0mpredict\u001b[0m\u001b[0;34m(\u001b[0m\u001b[0mfull_X_test\u001b[0m\u001b[0;34m)\u001b[0m\u001b[0;34m\u001b[0m\u001b[0;34m\u001b[0m\u001b[0m\n\u001b[0m\u001b[1;32m      4\u001b[0m output = pd.DataFrame({\"id\": full_X_test.index,\n\u001b[1;32m      5\u001b[0m     \"target\": test_prediction})\n",
            "\u001b[0;32m/usr/local/lib/python3.7/dist-packages/sklearn/utils/metaestimators.py\u001b[0m in \u001b[0;36m<lambda>\u001b[0;34m(*args, **kwargs)\u001b[0m\n\u001b[1;32m    114\u001b[0m \u001b[0;34m\u001b[0m\u001b[0m\n\u001b[1;32m    115\u001b[0m         \u001b[0;31m# lambda, but not partial, allows help() to work with update_wrapper\u001b[0m\u001b[0;34m\u001b[0m\u001b[0;34m\u001b[0m\u001b[0;34m\u001b[0m\u001b[0m\n\u001b[0;32m--> 116\u001b[0;31m         \u001b[0mout\u001b[0m \u001b[0;34m=\u001b[0m \u001b[0;32mlambda\u001b[0m \u001b[0;34m*\u001b[0m\u001b[0margs\u001b[0m\u001b[0;34m,\u001b[0m \u001b[0;34m**\u001b[0m\u001b[0mkwargs\u001b[0m\u001b[0;34m:\u001b[0m \u001b[0mself\u001b[0m\u001b[0;34m.\u001b[0m\u001b[0mfn\u001b[0m\u001b[0;34m(\u001b[0m\u001b[0mobj\u001b[0m\u001b[0;34m,\u001b[0m \u001b[0;34m*\u001b[0m\u001b[0margs\u001b[0m\u001b[0;34m,\u001b[0m \u001b[0;34m**\u001b[0m\u001b[0mkwargs\u001b[0m\u001b[0;34m)\u001b[0m\u001b[0;34m\u001b[0m\u001b[0;34m\u001b[0m\u001b[0m\n\u001b[0m\u001b[1;32m    117\u001b[0m         \u001b[0;31m# update the docstring of the returned function\u001b[0m\u001b[0;34m\u001b[0m\u001b[0;34m\u001b[0m\u001b[0;34m\u001b[0m\u001b[0m\n\u001b[1;32m    118\u001b[0m         \u001b[0mupdate_wrapper\u001b[0m\u001b[0;34m(\u001b[0m\u001b[0mout\u001b[0m\u001b[0;34m,\u001b[0m \u001b[0mself\u001b[0m\u001b[0;34m.\u001b[0m\u001b[0mfn\u001b[0m\u001b[0;34m)\u001b[0m\u001b[0;34m\u001b[0m\u001b[0;34m\u001b[0m\u001b[0m\n",
            "\u001b[0;32m/usr/local/lib/python3.7/dist-packages/sklearn/pipeline.py\u001b[0m in \u001b[0;36mpredict\u001b[0;34m(self, X, **predict_params)\u001b[0m\n\u001b[1;32m    418\u001b[0m         \u001b[0;32mfor\u001b[0m \u001b[0m_\u001b[0m\u001b[0;34m,\u001b[0m \u001b[0mname\u001b[0m\u001b[0;34m,\u001b[0m \u001b[0mtransform\u001b[0m \u001b[0;32min\u001b[0m \u001b[0mself\u001b[0m\u001b[0;34m.\u001b[0m\u001b[0m_iter\u001b[0m\u001b[0;34m(\u001b[0m\u001b[0mwith_final\u001b[0m\u001b[0;34m=\u001b[0m\u001b[0;32mFalse\u001b[0m\u001b[0;34m)\u001b[0m\u001b[0;34m:\u001b[0m\u001b[0;34m\u001b[0m\u001b[0;34m\u001b[0m\u001b[0m\n\u001b[1;32m    419\u001b[0m             \u001b[0mXt\u001b[0m \u001b[0;34m=\u001b[0m \u001b[0mtransform\u001b[0m\u001b[0;34m.\u001b[0m\u001b[0mtransform\u001b[0m\u001b[0;34m(\u001b[0m\u001b[0mXt\u001b[0m\u001b[0;34m)\u001b[0m\u001b[0;34m\u001b[0m\u001b[0;34m\u001b[0m\u001b[0m\n\u001b[0;32m--> 420\u001b[0;31m         \u001b[0;32mreturn\u001b[0m \u001b[0mself\u001b[0m\u001b[0;34m.\u001b[0m\u001b[0msteps\u001b[0m\u001b[0;34m[\u001b[0m\u001b[0;34m-\u001b[0m\u001b[0;36m1\u001b[0m\u001b[0;34m]\u001b[0m\u001b[0;34m[\u001b[0m\u001b[0;34m-\u001b[0m\u001b[0;36m1\u001b[0m\u001b[0;34m]\u001b[0m\u001b[0;34m.\u001b[0m\u001b[0mpredict\u001b[0m\u001b[0;34m(\u001b[0m\u001b[0mXt\u001b[0m\u001b[0;34m,\u001b[0m \u001b[0;34m**\u001b[0m\u001b[0mpredict_params\u001b[0m\u001b[0;34m)\u001b[0m\u001b[0;34m\u001b[0m\u001b[0;34m\u001b[0m\u001b[0m\n\u001b[0m\u001b[1;32m    421\u001b[0m \u001b[0;34m\u001b[0m\u001b[0m\n\u001b[1;32m    422\u001b[0m     \u001b[0;34m@\u001b[0m\u001b[0mif_delegate_has_method\u001b[0m\u001b[0;34m(\u001b[0m\u001b[0mdelegate\u001b[0m\u001b[0;34m=\u001b[0m\u001b[0;34m'_final_estimator'\u001b[0m\u001b[0;34m)\u001b[0m\u001b[0;34m\u001b[0m\u001b[0;34m\u001b[0m\u001b[0m\n",
            "\u001b[0;32m/usr/local/lib/python3.7/dist-packages/sklearn/ensemble/_forest.py\u001b[0m in \u001b[0;36mpredict\u001b[0;34m(self, X)\u001b[0m\n\u001b[1;32m    764\u001b[0m         \u001b[0mcheck_is_fitted\u001b[0m\u001b[0;34m(\u001b[0m\u001b[0mself\u001b[0m\u001b[0;34m)\u001b[0m\u001b[0;34m\u001b[0m\u001b[0;34m\u001b[0m\u001b[0m\n\u001b[1;32m    765\u001b[0m         \u001b[0;31m# Check data\u001b[0m\u001b[0;34m\u001b[0m\u001b[0;34m\u001b[0m\u001b[0;34m\u001b[0m\u001b[0m\n\u001b[0;32m--> 766\u001b[0;31m         \u001b[0mX\u001b[0m \u001b[0;34m=\u001b[0m \u001b[0mself\u001b[0m\u001b[0;34m.\u001b[0m\u001b[0m_validate_X_predict\u001b[0m\u001b[0;34m(\u001b[0m\u001b[0mX\u001b[0m\u001b[0;34m)\u001b[0m\u001b[0;34m\u001b[0m\u001b[0;34m\u001b[0m\u001b[0m\n\u001b[0m\u001b[1;32m    767\u001b[0m \u001b[0;34m\u001b[0m\u001b[0m\n\u001b[1;32m    768\u001b[0m         \u001b[0;31m# Assign chunk of trees to jobs\u001b[0m\u001b[0;34m\u001b[0m\u001b[0;34m\u001b[0m\u001b[0;34m\u001b[0m\u001b[0m\n",
            "\u001b[0;32m/usr/local/lib/python3.7/dist-packages/sklearn/ensemble/_forest.py\u001b[0m in \u001b[0;36m_validate_X_predict\u001b[0;34m(self, X)\u001b[0m\n\u001b[1;32m    410\u001b[0m         \u001b[0mcheck_is_fitted\u001b[0m\u001b[0;34m(\u001b[0m\u001b[0mself\u001b[0m\u001b[0;34m)\u001b[0m\u001b[0;34m\u001b[0m\u001b[0;34m\u001b[0m\u001b[0m\n\u001b[1;32m    411\u001b[0m \u001b[0;34m\u001b[0m\u001b[0m\n\u001b[0;32m--> 412\u001b[0;31m         \u001b[0;32mreturn\u001b[0m \u001b[0mself\u001b[0m\u001b[0;34m.\u001b[0m\u001b[0mestimators_\u001b[0m\u001b[0;34m[\u001b[0m\u001b[0;36m0\u001b[0m\u001b[0;34m]\u001b[0m\u001b[0;34m.\u001b[0m\u001b[0m_validate_X_predict\u001b[0m\u001b[0;34m(\u001b[0m\u001b[0mX\u001b[0m\u001b[0;34m,\u001b[0m \u001b[0mcheck_input\u001b[0m\u001b[0;34m=\u001b[0m\u001b[0;32mTrue\u001b[0m\u001b[0;34m)\u001b[0m\u001b[0;34m\u001b[0m\u001b[0;34m\u001b[0m\u001b[0m\n\u001b[0m\u001b[1;32m    413\u001b[0m \u001b[0;34m\u001b[0m\u001b[0m\n\u001b[1;32m    414\u001b[0m     \u001b[0;34m@\u001b[0m\u001b[0mproperty\u001b[0m\u001b[0;34m\u001b[0m\u001b[0;34m\u001b[0m\u001b[0m\n",
            "\u001b[0;32m/usr/local/lib/python3.7/dist-packages/sklearn/tree/_classes.py\u001b[0m in \u001b[0;36m_validate_X_predict\u001b[0;34m(self, X, check_input)\u001b[0m\n\u001b[1;32m    378\u001b[0m         \u001b[0;34m\"\"\"Validate X whenever one tries to predict, apply, predict_proba\"\"\"\u001b[0m\u001b[0;34m\u001b[0m\u001b[0;34m\u001b[0m\u001b[0m\n\u001b[1;32m    379\u001b[0m         \u001b[0;32mif\u001b[0m \u001b[0mcheck_input\u001b[0m\u001b[0;34m:\u001b[0m\u001b[0;34m\u001b[0m\u001b[0;34m\u001b[0m\u001b[0m\n\u001b[0;32m--> 380\u001b[0;31m             \u001b[0mX\u001b[0m \u001b[0;34m=\u001b[0m \u001b[0mcheck_array\u001b[0m\u001b[0;34m(\u001b[0m\u001b[0mX\u001b[0m\u001b[0;34m,\u001b[0m \u001b[0mdtype\u001b[0m\u001b[0;34m=\u001b[0m\u001b[0mDTYPE\u001b[0m\u001b[0;34m,\u001b[0m \u001b[0maccept_sparse\u001b[0m\u001b[0;34m=\u001b[0m\u001b[0;34m\"csr\"\u001b[0m\u001b[0;34m)\u001b[0m\u001b[0;34m\u001b[0m\u001b[0;34m\u001b[0m\u001b[0m\n\u001b[0m\u001b[1;32m    381\u001b[0m             if issparse(X) and (X.indices.dtype != np.intc or\n\u001b[1;32m    382\u001b[0m                                 X.indptr.dtype != np.intc):\n",
            "\u001b[0;32m/usr/local/lib/python3.7/dist-packages/sklearn/utils/validation.py\u001b[0m in \u001b[0;36mcheck_array\u001b[0;34m(array, accept_sparse, accept_large_sparse, dtype, order, copy, force_all_finite, ensure_2d, allow_nd, ensure_min_samples, ensure_min_features, warn_on_dtype, estimator)\u001b[0m\n\u001b[1;32m    576\u001b[0m         \u001b[0;32mif\u001b[0m \u001b[0mforce_all_finite\u001b[0m\u001b[0;34m:\u001b[0m\u001b[0;34m\u001b[0m\u001b[0;34m\u001b[0m\u001b[0m\n\u001b[1;32m    577\u001b[0m             _assert_all_finite(array,\n\u001b[0;32m--> 578\u001b[0;31m                                allow_nan=force_all_finite == 'allow-nan')\n\u001b[0m\u001b[1;32m    579\u001b[0m \u001b[0;34m\u001b[0m\u001b[0m\n\u001b[1;32m    580\u001b[0m     \u001b[0;32mif\u001b[0m \u001b[0mensure_min_samples\u001b[0m \u001b[0;34m>\u001b[0m \u001b[0;36m0\u001b[0m\u001b[0;34m:\u001b[0m\u001b[0;34m\u001b[0m\u001b[0;34m\u001b[0m\u001b[0m\n",
            "\u001b[0;32m/usr/local/lib/python3.7/dist-packages/sklearn/utils/validation.py\u001b[0m in \u001b[0;36m_assert_all_finite\u001b[0;34m(X, allow_nan, msg_dtype)\u001b[0m\n\u001b[1;32m     58\u001b[0m                     \u001b[0mmsg_err\u001b[0m\u001b[0;34m.\u001b[0m\u001b[0mformat\u001b[0m\u001b[0;34m\u001b[0m\u001b[0;34m\u001b[0m\u001b[0m\n\u001b[1;32m     59\u001b[0m                     (type_err,\n\u001b[0;32m---> 60\u001b[0;31m                      msg_dtype if msg_dtype is not None else X.dtype)\n\u001b[0m\u001b[1;32m     61\u001b[0m             )\n\u001b[1;32m     62\u001b[0m     \u001b[0;31m# for object dtype data, we only check for NaNs (GH-13254)\u001b[0m\u001b[0;34m\u001b[0m\u001b[0;34m\u001b[0m\u001b[0;34m\u001b[0m\u001b[0m\n",
            "\u001b[0;31mValueError\u001b[0m: Input contains NaN, infinity or a value too large for dtype('float32')."
          ]
        }
      ]
    },
    {
      "cell_type": "code",
      "metadata": {
        "id": "C-7_2QseWEyS"
      },
      "source": [
        "def get_score(model, X_t=X_train, X_v=X_valid, y_t=y_train, y_v=y_valid):\n",
        "    my_pipeline = Pipeline(steps=[\n",
        "                                  ('preprocessor', preprocessor),\n",
        "                                  ('model', model)\n",
        "    ])\n",
        "    my_pipeline.fit(X_t, y_t)\n",
        "    preds = my_pipeline.predict(X_v)\n",
        "    return mean_absolute_error(y_v, preds)\n",
        "    "
      ],
      "execution_count": null,
      "outputs": []
    },
    {
      "cell_type": "code",
      "metadata": {
        "colab": {
          "base_uri": "https://localhost:8080/"
        },
        "id": "fqq5XBz-ZSdQ",
        "outputId": "9545cd77-42ba-4575-f71f-b02f69438947"
      },
      "source": [
        "xgb_model = XGBRegressor(random_state=1)\n",
        "get_score(xgb_model)"
      ],
      "execution_count": null,
      "outputs": [
        {
          "output_type": "stream",
          "text": [
            "[13:56:16] WARNING: /workspace/src/objective/regression_obj.cu:152: reg:linear is now deprecated in favor of reg:squarederror.\n"
          ],
          "name": "stdout"
        },
        {
          "output_type": "execute_result",
          "data": {
            "text/plain": [
              "0.58141917288352"
            ]
          },
          "metadata": {
            "tags": []
          },
          "execution_count": 41
        }
      ]
    },
    {
      "cell_type": "code",
      "metadata": {
        "colab": {
          "base_uri": "https://localhost:8080/"
        },
        "id": "QlTUk7psZdi3",
        "outputId": "a76eed7d-28c8-4bf8-ce26-8465766ea400"
      },
      "source": [
        "num_estimators = list(range(100,500, 50))\n",
        "estimators_mae_dict = {}\n",
        "for i, n_estimator in enumerate(num_estimators):\n",
        "    model = XGBRegressor(n_estimators= n_estimator,objective='reg:squarederror', random_state=1)\n",
        "    print (f\"Model {i}\\n\\t has {n_estimator} estimators \\n\\tMAE:{get_score(model)}\")\n",
        "    estimators_mae_dict[n_estimator] = get_score(model)\n",
        "\n",
        "    \n"
      ],
      "execution_count": null,
      "outputs": [
        {
          "output_type": "stream",
          "text": [
            "Model 0\n",
            "\t has 100 estimators \n",
            "\tMAE:0.58141917288352\n",
            "Model 1\n",
            "\t has 150 estimators \n",
            "\tMAE:0.5811053562731076\n",
            "Model 2\n",
            "\t has 200 estimators \n",
            "\tMAE:0.5806215448108675\n",
            "Model 3\n",
            "\t has 250 estimators \n",
            "\tMAE:0.5806959949428289\n",
            "Model 4\n",
            "\t has 300 estimators \n",
            "\tMAE:0.5806348204582048\n",
            "Model 5\n",
            "\t has 350 estimators \n",
            "\tMAE:0.5800087921627418\n",
            "Model 6\n",
            "\t has 400 estimators \n",
            "\tMAE:0.5803418348688879\n",
            "Model 7\n",
            "\t has 450 estimators \n",
            "\tMAE:0.5802753319773681\n"
          ],
          "name": "stdout"
        }
      ]
    },
    {
      "cell_type": "code",
      "metadata": {
        "colab": {
          "base_uri": "https://localhost:8080/",
          "height": 282
        },
        "id": "NIKpdQSJcYHS",
        "outputId": "efe46a74-35bc-4f99-8a0f-e87fac000ea9"
      },
      "source": [
        "plt.plot(list(estimators_mae_dict.keys()), list(estimators_mae_dict.values()))"
      ],
      "execution_count": null,
      "outputs": [
        {
          "output_type": "execute_result",
          "data": {
            "text/plain": [
              "[<matplotlib.lines.Line2D at 0x7f590c2bc850>]"
            ]
          },
          "metadata": {
            "tags": []
          },
          "execution_count": 48
        },
        {
          "output_type": "display_data",
          "data": {
            "image/png": "[encoded data removed]",
            "text/plain": [
              "<Figure size 432x288 with 1 Axes>"
            ]
          },
          "metadata": {
            "tags": [],
            "needs_background": "light"
          }
        }
      ]
    },
    {
      "cell_type": "code",
      "metadata": {
        "colab": {
          "base_uri": "https://localhost:8080/"
        },
        "id": "w1eHTs7kdo7-",
        "outputId": "1975e4ba-554e-4ebf-c387-474fb22ece90"
      },
      "source": [
        "# it looks like 350 estimators has the lowest mae score \n",
        "best_n_estimator = min(estimators_mae_dict, key=estimators_mae_dict.get)\n",
        "print(f\"The best number of estimators is {best_n_estimator}\")"
      ],
      "execution_count": null,
      "outputs": [
        {
          "output_type": "stream",
          "text": [
            "The best number of estimators is 350\n"
          ],
          "name": "stdout"
        }
      ]
    },
    {
      "cell_type": "code",
      "metadata": {
        "colab": {
          "base_uri": "https://localhost:8080/"
        },
        "id": "3eJ7sDGQeH81",
        "outputId": "577aa1bf-d302-4a57-a41a-3593bdead3a6"
      },
      "source": [
        "# learning rate values \n",
        "lr_rates = [0.1, 0.08, 0.05, 0.03, 0.01]\n",
        "lr_rates_dict = {}\n",
        "for i, lr_rate in enumerate(lr_rates):\n",
        "    model = XGBRegressor(n_estimators= best_n_estimator,\n",
        "                         objective='reg:squarederror', learning_rate = lr_rate,\n",
        "                         random_state=1)\n",
        "    print (f\"Model {i}\\n\\t has {lr_rate} Learning Rate \\n\\tMAE:{get_score(model)}\")\n",
        "    lr_rates_dict[lr_rate] = get_score(model)\n",
        "    "
      ],
      "execution_count": null,
      "outputs": [
        {
          "output_type": "stream",
          "text": [
            "Model 0\n",
            "\t has 0.1 Learning Rate \n",
            "\tMAE:0.5800087921627418\n",
            "Model 1\n",
            "\t has 0.08 Learning Rate \n",
            "\tMAE:0.5805533114859335\n",
            "Model 2\n",
            "\t has 0.05 Learning Rate \n",
            "\tMAE:0.5798324656438496\n",
            "Model 3\n",
            "\t has 0.03 Learning Rate \n",
            "\tMAE:0.580798900598873\n",
            "Model 4\n",
            "\t has 0.01 Learning Rate \n",
            "\tMAE:0.612528628137427\n"
          ],
          "name": "stdout"
        }
      ]
    },
    {
      "cell_type": "code",
      "metadata": {
        "colab": {
          "base_uri": "https://localhost:8080/"
        },
        "id": "mpM1VUFLfWZE",
        "outputId": "185d2774-f1cc-42ad-c809-84b1a1261fac"
      },
      "source": [
        "best_lr_rate = min(lr_rates_dict, key=lr_rates_dict.get)\n",
        "print(f\"Best Learning Rate {best_lr_rate}\")"
      ],
      "execution_count": null,
      "outputs": [
        {
          "output_type": "stream",
          "text": [
            "Best Learning Rate 0.05\n"
          ],
          "name": "stdout"
        }
      ]
    },
    {
      "cell_type": "code",
      "metadata": {
        "colab": {
          "base_uri": "https://localhost:8080/"
        },
        "id": "MJX9H1LhgmRm",
        "outputId": "a1641815-4dc1-4cb0-98a4-ef68f2d3b2e5"
      },
      "source": [
        "num_estimators = list(range(100,500, 50))\n",
        "estimators_mae_dict = {}\n",
        "for i, n_estimator in enumerate(num_estimators):\n",
        "    model = XGBRegressor(n_estimators= n_estimator,\n",
        "                         objective='reg:squarederror', learning_rate = 0.05,\n",
        "                         random_state=1)\n",
        "    print (f\"Model {i}\\n\\t has {n_estimator} estimators \\n\\tMAE:{get_score(model)}\")\n",
        "    estimators_mae_dict[n_estimator] = get_score(model)"
      ],
      "execution_count": null,
      "outputs": [
        {
          "output_type": "stream",
          "text": [
            "Model 0\n",
            "\t has 100 estimators \n",
            "\tMAE:0.5856726472048999\n",
            "Model 1\n",
            "\t has 150 estimators \n",
            "\tMAE:0.5825203573915799\n",
            "Model 2\n",
            "\t has 200 estimators \n",
            "\tMAE:0.5810324053186156\n",
            "Model 3\n",
            "\t has 250 estimators \n",
            "\tMAE:0.5802848674871495\n",
            "Model 4\n",
            "\t has 300 estimators \n",
            "\tMAE:0.5800282489611289\n",
            "Model 5\n",
            "\t has 350 estimators \n",
            "\tMAE:0.5798324656438496\n",
            "Model 6\n",
            "\t has 400 estimators \n",
            "\tMAE:0.5800103318797102\n",
            "Model 7\n",
            "\t has 450 estimators \n",
            "\tMAE:0.579998331962443\n"
          ],
          "name": "stdout"
        }
      ]
    },
    {
      "cell_type": "code",
      "metadata": {
        "colab": {
          "base_uri": "https://localhost:8080/"
        },
        "id": "-aAAXEZyhU45",
        "outputId": "cf20c2a9-0ffe-44fa-c116-e0a87a1a29d6"
      },
      "source": [
        "num_estimators = list(range(500,1001, 50))\n",
        "estimators_mae_dict = {}\n",
        "for i, n_estimator in enumerate(num_estimators):\n",
        "    model = XGBRegressor(n_estimators= n_estimator,\n",
        "                         objective='reg:squarederror', learning_rate = 0.05,\n",
        "                         random_state=1)\n",
        "    print (f\"Model {i}\\n\\t has {n_estimator} estimators \\n\\tMAE:{get_score(model)}\")\n",
        "    estimators_mae_dict[n_estimator] = get_score(model)"
      ],
      "execution_count": null,
      "outputs": [
        {
          "output_type": "stream",
          "text": [
            "Model 0\n",
            "\t has 500 estimators \n",
            "\tMAE:0.5803227970497672\n",
            "Model 1\n",
            "\t has 550 estimators \n",
            "\tMAE:0.5803641534130748\n",
            "Model 2\n",
            "\t has 600 estimators \n",
            "\tMAE:0.5803491891016747\n",
            "Model 3\n",
            "\t has 650 estimators \n",
            "\tMAE:0.5804934998177074\n",
            "Model 4\n",
            "\t has 700 estimators \n",
            "\tMAE:0.5807164251859402\n",
            "Model 5\n",
            "\t has 750 estimators \n",
            "\tMAE:0.5804950619618695\n",
            "Model 6\n",
            "\t has 800 estimators \n",
            "\tMAE:0.5807226445517611\n",
            "Model 7\n",
            "\t has 850 estimators \n",
            "\tMAE:0.5809480093794417\n",
            "Model 8\n",
            "\t has 900 estimators \n",
            "\tMAE:0.5810761857182183\n",
            "Model 9\n",
            "\t has 950 estimators \n",
            "\tMAE:0.581275044677726\n",
            "Model 10\n",
            "\t has 1000 estimators \n",
            "\tMAE:0.5814070615181446\n"
          ],
          "name": "stdout"
        }
      ]
    },
    {
      "cell_type": "code",
      "metadata": {
        "colab": {
          "base_uri": "https://localhost:8080/"
        },
        "id": "fiU2f649h-Ta",
        "outputId": "30c267f3-9785-4869-f494-37e5341e8a22"
      },
      "source": [
        "num_estimators = list(range(150, 1001, 50))\n",
        "lr_rates = [0.05 / i for i in range(1,10)]\n",
        "model_results = {}\n",
        "counter = 1\n",
        "for n_estimator in num_estimators:\n",
        "    for lr_rate in lr_rates:\n",
        "        model = XGBRegressor(n_estimators= n_estimator,\n",
        "                         objective='reg:squarederror', learning_rate = lr_rate,\n",
        "                         random_state=1)\n",
        "        model_results[f'model{counter}'] = {'estimators': n_estimator,\n",
        "                                            'lr': lr_rate,\n",
        "                                            'mae': get_score(model)}\n",
        "        print(f\"model {counter} is evaluated\")\n",
        "        counter+=1\n",
        "        \n",
        "        \n"
      ],
      "execution_count": null,
      "outputs": [
        {
          "output_type": "stream",
          "text": [
            "model 1 is evaluated\n",
            "model 2 is evaluated\n",
            "model 3 is evaluated\n",
            "model 4 is evaluated\n",
            "model 5 is evaluated\n",
            "model 6 is evaluated\n",
            "model 7 is evaluated\n",
            "model 8 is evaluated\n",
            "model 9 is evaluated\n",
            "model 10 is evaluated\n",
            "model 11 is evaluated\n",
            "model 12 is evaluated\n",
            "model 13 is evaluated\n",
            "model 14 is evaluated\n",
            "model 15 is evaluated\n",
            "model 16 is evaluated\n",
            "model 17 is evaluated\n",
            "model 18 is evaluated\n",
            "model 19 is evaluated\n",
            "model 20 is evaluated\n",
            "model 21 is evaluated\n",
            "model 22 is evaluated\n",
            "model 23 is evaluated\n",
            "model 24 is evaluated\n",
            "model 25 is evaluated\n",
            "model 26 is evaluated\n",
            "model 27 is evaluated\n",
            "model 28 is evaluated\n",
            "model 29 is evaluated\n",
            "model 30 is evaluated\n",
            "model 31 is evaluated\n",
            "model 32 is evaluated\n",
            "model 33 is evaluated\n",
            "model 34 is evaluated\n",
            "model 35 is evaluated\n",
            "model 36 is evaluated\n",
            "model 37 is evaluated\n",
            "model 38 is evaluated\n",
            "model 39 is evaluated\n",
            "model 40 is evaluated\n",
            "model 41 is evaluated\n",
            "model 42 is evaluated\n",
            "model 43 is evaluated\n",
            "model 44 is evaluated\n",
            "model 45 is evaluated\n",
            "model 46 is evaluated\n",
            "model 47 is evaluated\n",
            "model 48 is evaluated\n",
            "model 49 is evaluated\n",
            "model 50 is evaluated\n",
            "model 51 is evaluated\n",
            "model 52 is evaluated\n",
            "model 53 is evaluated\n",
            "model 54 is evaluated\n",
            "model 55 is evaluated\n",
            "model 56 is evaluated\n",
            "model 57 is evaluated\n",
            "model 58 is evaluated\n",
            "model 59 is evaluated\n",
            "model 60 is evaluated\n",
            "model 61 is evaluated\n",
            "model 62 is evaluated\n",
            "model 64 is evaluated\n",
            "model 65 is evaluated\n",
            "model 66 is evaluated\n",
            "model 67 is evaluated\n",
            "model 68 is evaluated\n",
            "model 69 is evaluated\n",
            "model 70 is evaluated\n",
            "model 71 is evaluated\n",
            "model 72 is evaluated\n",
            "model 73 is evaluated\n",
            "model 74 is evaluated\n",
            "model 75 is evaluated\n",
            "model 76 is evaluated\n",
            "model 77 is evaluated\n",
            "model 78 is evaluated\n",
            "model 79 is evaluated\n",
            "model 80 is evaluated\n",
            "model 81 is evaluated\n",
            "model 82 is evaluated\n",
            "model 83 is evaluated\n",
            "model 84 is evaluated\n",
            "model 85 is evaluated\n",
            "model 86 is evaluated\n",
            "model 87 is evaluated\n",
            "model 88 is evaluated\n",
            "model 89 is evaluated\n",
            "model 90 is evaluated\n",
            "model 91 is evaluated\n",
            "model 92 is evaluated\n",
            "model 93 is evaluated\n",
            "model 94 is evaluated\n",
            "model 95 is evaluated\n",
            "model 96 is evaluated\n",
            "model 97 is evaluated\n",
            "model 98 is evaluated\n",
            "model 99 is evaluated\n",
            "model 100 is evaluated\n",
            "model 101 is evaluated\n",
            "model 102 is evaluated\n",
            "model 103 is evaluated\n",
            "model 104 is evaluated\n",
            "model 105 is evaluated\n",
            "model 106 is evaluated\n",
            "model 107 is evaluated\n",
            "model 108 is evaluated\n",
            "model 109 is evaluated\n",
            "model 110 is evaluated\n",
            "model 111 is evaluated\n",
            "model 112 is evaluated\n",
            "model 113 is evaluated\n",
            "model 114 is evaluated\n",
            "model 115 is evaluated\n",
            "model 116 is evaluated\n",
            "model 117 is evaluated\n",
            "model 118 is evaluated\n",
            "model 119 is evaluated\n",
            "model 120 is evaluated\n",
            "model 121 is evaluated\n",
            "model 122 is evaluated\n",
            "model 123 is evaluated\n",
            "model 124 is evaluated\n",
            "model 125 is evaluated\n",
            "model 126 is evaluated\n",
            "model 127 is evaluated\n",
            "model 128 is evaluated\n",
            "model 129 is evaluated\n",
            "model 130 is evaluated\n",
            "model 131 is evaluated\n",
            "model 132 is evaluated\n",
            "model 133 is evaluated\n",
            "model 134 is evaluated\n",
            "model 135 is evaluated\n",
            "model 136 is evaluated\n",
            "model 137 is evaluated\n",
            "model 138 is evaluated\n",
            "model 139 is evaluated\n",
            "model 140 is evaluated\n",
            "model 141 is evaluated\n",
            "model 142 is evaluated\n",
            "model 143 is evaluated\n",
            "model 144 is evaluated\n",
            "model 145 is evaluated\n",
            "model 146 is evaluated\n",
            "model 147 is evaluated\n",
            "model 148 is evaluated\n",
            "model 149 is evaluated\n",
            "model 150 is evaluated\n",
            "model 151 is evaluated\n",
            "model 152 is evaluated\n",
            "model 153 is evaluated\n",
            "model 154 is evaluated\n",
            "model 155 is evaluated\n",
            "model 156 is evaluated\n",
            "model 157 is evaluated\n",
            "model 158 is evaluated\n",
            "model 159 is evaluated\n",
            "model 160 is evaluated\n",
            "model 161 is evaluated\n",
            "model 162 is evaluated\n"
          ],
          "name": "stdout"
        }
      ]
    },
    {
      "cell_type": "code",
      "metadata": {
        "id": "mCE5dqGTlgnc"
      },
      "source": [
        ""
      ],
      "execution_count": null,
      "outputs": []
    },
    {
      "cell_type": "code",
      "metadata": {
        "colab": {
          "base_uri": "https://localhost:8080/",
          "height": 49
        },
        "id": "-Ra47cPpqU_l",
        "outputId": "4c40364c-9639-4935-a833-4ca399f40530"
      },
      "source": [
        "results_df"
      ],
      "execution_count": null,
      "outputs": [
        {
          "output_type": "execute_result",
          "data": {
            "text/html": [
              "<div>\n",
              "<style scoped>\n",
              "    .dataframe tbody tr th:only-of-type {\n",
              "        vertical-align: middle;\n",
              "    }\n",
              "\n",
              "    .dataframe tbody tr th {\n",
              "        vertical-align: top;\n",
              "    }\n",
              "\n",
              "    .dataframe thead th {\n",
              "        text-align: right;\n",
              "    }\n",
              "</style>\n",
              "<table border=\"1\" class=\"dataframe\">\n",
              "  <thead>\n",
              "    <tr style=\"text-align: right;\">\n",
              "      <th></th>\n",
              "      <th>id</th>\n",
              "      <th>model</th>\n",
              "      <th>n_estimators</th>\n",
              "      <th>lr</th>\n",
              "      <th>mae</th>\n",
              "    </tr>\n",
              "  </thead>\n",
              "  <tbody>\n",
              "  </tbody>\n",
              "</table>\n",
              "</div>"
            ],
            "text/plain": [
              "Empty DataFrame\n",
              "Columns: [id, model, n_estimators, lr, mae]\n",
              "Index: []"
            ]
          },
          "metadata": {
            "tags": []
          },
          "execution_count": 69
        }
      ]
    },
    {
      "cell_type": "code",
      "metadata": {
        "id": "YV7xpuToqWIK"
      },
      "source": [
        "results_df = pd.DataFrame(columns=[\"id\",\"model\",\"n_estimators\", \"lr\", \"mae\"])\n",
        "counter = 1\n",
        "for model in model_results.keys():\n",
        "    row = [counter,model, model_results[model]['estimators'], \n",
        "           model_results[model]['lr'], model_results[model]['mae']]\n",
        "    results_df.loc[len(results_df)] =row \n",
        "    counter+=1\n"
      ],
      "execution_count": null,
      "outputs": []
    },
    {
      "cell_type": "code",
      "metadata": {
        "colab": {
          "base_uri": "https://localhost:8080/",
          "height": 80
        },
        "id": "34mlarBqqZ1h",
        "outputId": "304ab4c2-5165-4ae3-d4d7-c5b8dd41ac22"
      },
      "source": [
        "best_params = {\"id\", \"model\", \"n_estimators\", \"lr\", \"mae\"}\n",
        "results_df[results_df.mae == results_df.mae.min()]"
      ],
      "execution_count": null,
      "outputs": [
        {
          "output_type": "execute_result",
          "data": {
            "text/html": [
              "<div>\n",
              "<style scoped>\n",
              "    .dataframe tbody tr th:only-of-type {\n",
              "        vertical-align: middle;\n",
              "    }\n",
              "\n",
              "    .dataframe tbody tr th {\n",
              "        vertical-align: top;\n",
              "    }\n",
              "\n",
              "    .dataframe thead th {\n",
              "        text-align: right;\n",
              "    }\n",
              "</style>\n",
              "<table border=\"1\" class=\"dataframe\">\n",
              "  <thead>\n",
              "    <tr style=\"text-align: right;\">\n",
              "      <th></th>\n",
              "      <th>id</th>\n",
              "      <th>model</th>\n",
              "      <th>n_estimators</th>\n",
              "      <th>lr</th>\n",
              "      <th>mae</th>\n",
              "    </tr>\n",
              "  </thead>\n",
              "  <tbody>\n",
              "    <tr>\n",
              "      <th>36</th>\n",
              "      <td>37</td>\n",
              "      <td>model37</td>\n",
              "      <td>350</td>\n",
              "      <td>0.05</td>\n",
              "      <td>0.579832</td>\n",
              "    </tr>\n",
              "  </tbody>\n",
              "</table>\n",
              "</div>"
            ],
            "text/plain": [
              "    id    model n_estimators    lr       mae\n",
              "36  37  model37          350  0.05  0.579832"
            ]
          },
          "metadata": {
            "tags": []
          },
          "execution_count": 86
        }
      ]
    },
    {
      "cell_type": "code",
      "metadata": {
        "id": "IzP3VCJKrFyk"
      },
      "source": [
        "results_df.to_csv(os.path.join(\"output\", \"XGB_mae_restuls.csv\"), index=False)"
      ],
      "execution_count": null,
      "outputs": []
    },
    {
      "cell_type": "code",
      "metadata": {
        "colab": {
          "base_uri": "https://localhost:8080/"
        },
        "id": "IQf7_Qo3rNFi",
        "outputId": "81b38ec0-4035-4f60-b28e-ad0b0e887aed"
      },
      "source": [
        ""
      ],
      "execution_count": null,
      "outputs": [
        {
          "output_type": "execute_result",
          "data": {
            "text/plain": [
              "{}"
            ]
          },
          "metadata": {
            "tags": []
          },
          "execution_count": 66
        }
      ]
    },
    {
      "cell_type": "code",
      "metadata": {
        "id": "8YeQDwGb7jY4"
      },
      "source": [
        "results_df[results_df.mae == results_df.mae.min()].to_csv(os.path.join(\"output\", \"best_params.csv\"), index=False)"
      ],
      "execution_count": null,
      "outputs": []
    },
    {
      "cell_type": "code",
      "metadata": {
        "colab": {
          "base_uri": "https://localhost:8080/"
        },
        "id": "zhpPe8mMrTVV",
        "outputId": "8a2c32a4-cc51-413c-ad19-4b1923a118d6"
      },
      "source": [
        "best_params = results_df[results_df.mae == results_df.mae.min()].to_dict()"
      ],
      "execution_count": null,
      "outputs": [
        {
          "output_type": "execute_result",
          "data": {
            "text/plain": [
              "{'id': {36: 37},\n",
              " 'lr': {36: 0.05},\n",
              " 'mae': {36: 0.5798324656438496},\n",
              " 'model': {36: 'model37'},\n",
              " 'n_estimators': {36: 350}}"
            ]
          },
          "metadata": {
            "tags": []
          },
          "execution_count": 91
        }
      ]
    },
    {
      "cell_type": "code",
      "metadata": {
        "id": "NEJDmOqkLpiu"
      },
      "source": [
        "best_XGB = XGBRegressor(learning_rate = 0.05, n_estimators=350, random_state=1)\n",
        "xgb_pipeline = Pipeline(steps=[\n",
        "                              ('preprocessor', preprocessor),\n",
        "                              ('model', best_XGB)\n",
        "                              ])"
      ],
      "execution_count": 25,
      "outputs": []
    },
    {
      "cell_type": "code",
      "metadata": {
        "colab": {
          "base_uri": "https://localhost:8080/"
        },
        "id": "OqHm1fMMLqX6",
        "outputId": "1c55b16b-aa46-40e5-d7e8-abf06b7cfb62"
      },
      "source": [
        "xgb_pipeline.fit(X_train, y_train)"
      ],
      "execution_count": 26,
      "outputs": [
        {
          "output_type": "stream",
          "text": [
            "[21:35:57] WARNING: /workspace/src/objective/regression_obj.cu:152: reg:linear is now deprecated in favor of reg:squarederror.\n"
          ],
          "name": "stdout"
        },
        {
          "output_type": "execute_result",
          "data": {
            "text/plain": [
              "Pipeline(memory=None,\n",
              "         steps=[('preprocessor',\n",
              "                 ColumnTransformer(n_jobs=None, remainder='drop',\n",
              "                                   sparse_threshold=0.3,\n",
              "                                   transformer_weights=None,\n",
              "                                   transformers=[('num',\n",
              "                                                  StandardScaler(copy=True,\n",
              "                                                                 with_mean=True,\n",
              "                                                                 with_std=True),\n",
              "                                                  ['cont0', 'cont1', 'cont2',\n",
              "                                                   'cont3', 'cont4', 'cont5',\n",
              "                                                   'cont6', 'cont7', 'cont8',\n",
              "                                                   'cont9', 'cont10', 'cont11',\n",
              "                                                   'cont12', 'cont13']),\n",
              "                                                 ('cat',\n",
              "                                                  OneHotEncod...\n",
              "                              colsample_bylevel=1, colsample_bynode=1,\n",
              "                              colsample_bytree=1, gamma=0,\n",
              "                              importance_type='gain', learning_rate=0.05,\n",
              "                              max_delta_step=0, max_depth=3, min_child_weight=1,\n",
              "                              missing=None, n_estimators=350, n_jobs=1,\n",
              "                              nthread=None, objective='reg:linear',\n",
              "                              random_state=1, reg_alpha=0, reg_lambda=1,\n",
              "                              scale_pos_weight=1, seed=None, silent=None,\n",
              "                              subsample=1, verbosity=1))],\n",
              "         verbose=False)"
            ]
          },
          "metadata": {},
          "execution_count": 26
        }
      ]
    },
    {
      "cell_type": "code",
      "metadata": {
        "colab": {
          "base_uri": "https://localhost:8080/"
        },
        "id": "CRntn2BCMERv",
        "outputId": "f840359b-a1e4-481a-9b97-c9a34cca4f69"
      },
      "source": [
        "predictions2 =  xgb_pipeline.predict(X_valid)\n",
        "xgb_mae = mean_absolute_error(y_valid, predictions2)\n",
        "print(f\"MAE: {xgb_mae} \")"
      ],
      "execution_count": 27,
      "outputs": [
        {
          "output_type": "stream",
          "text": [
            "MAE: 0.5754213992162027 \n"
          ],
          "name": "stdout"
        }
      ]
    },
    {
      "cell_type": "code",
      "metadata": {
        "id": "2CBucJW1NvhK"
      },
      "source": [
        "xgb_test_preds = xgb_pipeline.predict(full_X_test)"
      ],
      "execution_count": 30,
      "outputs": []
    },
    {
      "cell_type": "code",
      "metadata": {
        "colab": {
          "base_uri": "https://localhost:8080/",
          "height": 450
        },
        "id": "7hy_VeawNmsi",
        "outputId": "95728717-8594-44c2-98f6-af4c82c9b753"
      },
      "source": [
        "output2 = pd.DataFrame({\"id\":full_X_test.index,\n",
        "          \"target\": xgb_test_preds})\n",
        "output2.set_index(\"id\")"
      ],
      "execution_count": 51,
      "outputs": [
        {
          "output_type": "execute_result",
          "data": {
            "text/html": [
              "<div>\n",
              "<style scoped>\n",
              "    .dataframe tbody tr th:only-of-type {\n",
              "        vertical-align: middle;\n",
              "    }\n",
              "\n",
              "    .dataframe tbody tr th {\n",
              "        vertical-align: top;\n",
              "    }\n",
              "\n",
              "    .dataframe thead th {\n",
              "        text-align: right;\n",
              "    }\n",
              "</style>\n",
              "<table border=\"1\" class=\"dataframe\">\n",
              "  <thead>\n",
              "    <tr style=\"text-align: right;\">\n",
              "      <th></th>\n",
              "      <th>target</th>\n",
              "    </tr>\n",
              "    <tr>\n",
              "      <th>id</th>\n",
              "      <th></th>\n",
              "    </tr>\n",
              "  </thead>\n",
              "  <tbody>\n",
              "    <tr>\n",
              "      <th>0</th>\n",
              "      <td>8.046600</td>\n",
              "    </tr>\n",
              "    <tr>\n",
              "      <th>5</th>\n",
              "      <td>8.288670</td>\n",
              "    </tr>\n",
              "    <tr>\n",
              "      <th>15</th>\n",
              "      <td>8.361273</td>\n",
              "    </tr>\n",
              "    <tr>\n",
              "      <th>16</th>\n",
              "      <td>8.340855</td>\n",
              "    </tr>\n",
              "    <tr>\n",
              "      <th>17</th>\n",
              "      <td>8.204716</td>\n",
              "    </tr>\n",
              "    <tr>\n",
              "      <th>...</th>\n",
              "      <td>...</td>\n",
              "    </tr>\n",
              "    <tr>\n",
              "      <th>499987</th>\n",
              "      <td>8.166846</td>\n",
              "    </tr>\n",
              "    <tr>\n",
              "      <th>499990</th>\n",
              "      <td>8.310244</td>\n",
              "    </tr>\n",
              "    <tr>\n",
              "      <th>499991</th>\n",
              "      <td>8.404526</td>\n",
              "    </tr>\n",
              "    <tr>\n",
              "      <th>499994</th>\n",
              "      <td>8.094573</td>\n",
              "    </tr>\n",
              "    <tr>\n",
              "      <th>499995</th>\n",
              "      <td>8.143442</td>\n",
              "    </tr>\n",
              "  </tbody>\n",
              "</table>\n",
              "<p>200000 rows × 1 columns</p>\n",
              "</div>"
            ],
            "text/plain": [
              "          target\n",
              "id              \n",
              "0       8.046600\n",
              "5       8.288670\n",
              "15      8.361273\n",
              "16      8.340855\n",
              "17      8.204716\n",
              "...          ...\n",
              "499987  8.166846\n",
              "499990  8.310244\n",
              "499991  8.404526\n",
              "499994  8.094573\n",
              "499995  8.143442\n",
              "\n",
              "[200000 rows x 1 columns]"
            ]
          },
          "metadata": {},
          "execution_count": 51
        }
      ]
    },
    {
      "cell_type": "code",
      "metadata": {
        "id": "9i4u2XCqOBKN"
      },
      "source": [
        "output2.to_csv(os.path.join(OUTPUT_PATH,\"submission2.csv\"), index=False)"
      ],
      "execution_count": 52,
      "outputs": []
    },
    {
      "cell_type": "code",
      "metadata": {
        "colab": {
          "base_uri": "https://localhost:8080/",
          "height": 419
        },
        "id": "OHDlXTHtOrmF",
        "outputId": "d834ad21-47c1-4045-d68a-3737a211eeda"
      },
      "source": [
        "pd.read_csv(os.path.join(OUTPUT_PATH,\"submission2.csv\"))"
      ],
      "execution_count": 53,
      "outputs": [
        {
          "output_type": "execute_result",
          "data": {
            "text/html": [
              "<div>\n",
              "<style scoped>\n",
              "    .dataframe tbody tr th:only-of-type {\n",
              "        vertical-align: middle;\n",
              "    }\n",
              "\n",
              "    .dataframe tbody tr th {\n",
              "        vertical-align: top;\n",
              "    }\n",
              "\n",
              "    .dataframe thead th {\n",
              "        text-align: right;\n",
              "    }\n",
              "</style>\n",
              "<table border=\"1\" class=\"dataframe\">\n",
              "  <thead>\n",
              "    <tr style=\"text-align: right;\">\n",
              "      <th></th>\n",
              "      <th>id</th>\n",
              "      <th>target</th>\n",
              "    </tr>\n",
              "  </thead>\n",
              "  <tbody>\n",
              "    <tr>\n",
              "      <th>0</th>\n",
              "      <td>0</td>\n",
              "      <td>8.046600</td>\n",
              "    </tr>\n",
              "    <tr>\n",
              "      <th>1</th>\n",
              "      <td>5</td>\n",
              "      <td>8.288670</td>\n",
              "    </tr>\n",
              "    <tr>\n",
              "      <th>2</th>\n",
              "      <td>15</td>\n",
              "      <td>8.361273</td>\n",
              "    </tr>\n",
              "    <tr>\n",
              "      <th>3</th>\n",
              "      <td>16</td>\n",
              "      <td>8.340855</td>\n",
              "    </tr>\n",
              "    <tr>\n",
              "      <th>4</th>\n",
              "      <td>17</td>\n",
              "      <td>8.204716</td>\n",
              "    </tr>\n",
              "    <tr>\n",
              "      <th>...</th>\n",
              "      <td>...</td>\n",
              "      <td>...</td>\n",
              "    </tr>\n",
              "    <tr>\n",
              "      <th>199995</th>\n",
              "      <td>499987</td>\n",
              "      <td>8.166846</td>\n",
              "    </tr>\n",
              "    <tr>\n",
              "      <th>199996</th>\n",
              "      <td>499990</td>\n",
              "      <td>8.310244</td>\n",
              "    </tr>\n",
              "    <tr>\n",
              "      <th>199997</th>\n",
              "      <td>499991</td>\n",
              "      <td>8.404526</td>\n",
              "    </tr>\n",
              "    <tr>\n",
              "      <th>199998</th>\n",
              "      <td>499994</td>\n",
              "      <td>8.094573</td>\n",
              "    </tr>\n",
              "    <tr>\n",
              "      <th>199999</th>\n",
              "      <td>499995</td>\n",
              "      <td>8.143442</td>\n",
              "    </tr>\n",
              "  </tbody>\n",
              "</table>\n",
              "<p>200000 rows × 2 columns</p>\n",
              "</div>"
            ],
            "text/plain": [
              "            id    target\n",
              "0            0  8.046600\n",
              "1            5  8.288670\n",
              "2           15  8.361273\n",
              "3           16  8.340855\n",
              "4           17  8.204716\n",
              "...        ...       ...\n",
              "199995  499987  8.166846\n",
              "199996  499990  8.310244\n",
              "199997  499991  8.404526\n",
              "199998  499994  8.094573\n",
              "199999  499995  8.143442\n",
              "\n",
              "[200000 rows x 2 columns]"
            ]
          },
          "metadata": {},
          "execution_count": 53
        }
      ]
    },
    {
      "cell_type": "code",
      "metadata": {
        "id": "4oDh-lYzO24_"
      },
      "source": [
        "output2.index_col =\"id\""
      ],
      "execution_count": 49,
      "outputs": []
    },
    {
      "cell_type": "code",
      "metadata": {
        "colab": {
          "base_uri": "https://localhost:8080/",
          "height": 419
        },
        "id": "Tb0Y6MEDPyoS",
        "outputId": "2a9f7305-8669-4da2-d697-b149c4350dc7"
      },
      "source": [
        "\n",
        "output2"
      ],
      "execution_count": 50,
      "outputs": [
        {
          "output_type": "execute_result",
          "data": {
            "text/html": [
              "<div>\n",
              "<style scoped>\n",
              "    .dataframe tbody tr th:only-of-type {\n",
              "        vertical-align: middle;\n",
              "    }\n",
              "\n",
              "    .dataframe tbody tr th {\n",
              "        vertical-align: top;\n",
              "    }\n",
              "\n",
              "    .dataframe thead th {\n",
              "        text-align: right;\n",
              "    }\n",
              "</style>\n",
              "<table border=\"1\" class=\"dataframe\">\n",
              "  <thead>\n",
              "    <tr style=\"text-align: right;\">\n",
              "      <th></th>\n",
              "      <th>id</th>\n",
              "      <th>target</th>\n",
              "    </tr>\n",
              "  </thead>\n",
              "  <tbody>\n",
              "    <tr>\n",
              "      <th>0</th>\n",
              "      <td>0</td>\n",
              "      <td>8.046600</td>\n",
              "    </tr>\n",
              "    <tr>\n",
              "      <th>1</th>\n",
              "      <td>5</td>\n",
              "      <td>8.288670</td>\n",
              "    </tr>\n",
              "    <tr>\n",
              "      <th>2</th>\n",
              "      <td>15</td>\n",
              "      <td>8.361273</td>\n",
              "    </tr>\n",
              "    <tr>\n",
              "      <th>3</th>\n",
              "      <td>16</td>\n",
              "      <td>8.340855</td>\n",
              "    </tr>\n",
              "    <tr>\n",
              "      <th>4</th>\n",
              "      <td>17</td>\n",
              "      <td>8.204716</td>\n",
              "    </tr>\n",
              "    <tr>\n",
              "      <th>...</th>\n",
              "      <td>...</td>\n",
              "      <td>...</td>\n",
              "    </tr>\n",
              "    <tr>\n",
              "      <th>199995</th>\n",
              "      <td>499987</td>\n",
              "      <td>8.166846</td>\n",
              "    </tr>\n",
              "    <tr>\n",
              "      <th>199996</th>\n",
              "      <td>499990</td>\n",
              "      <td>8.310244</td>\n",
              "    </tr>\n",
              "    <tr>\n",
              "      <th>199997</th>\n",
              "      <td>499991</td>\n",
              "      <td>8.404526</td>\n",
              "    </tr>\n",
              "    <tr>\n",
              "      <th>199998</th>\n",
              "      <td>499994</td>\n",
              "      <td>8.094573</td>\n",
              "    </tr>\n",
              "    <tr>\n",
              "      <th>199999</th>\n",
              "      <td>499995</td>\n",
              "      <td>8.143442</td>\n",
              "    </tr>\n",
              "  </tbody>\n",
              "</table>\n",
              "<p>200000 rows × 2 columns</p>\n",
              "</div>"
            ],
            "text/plain": [
              "            id    target\n",
              "0            0  8.046600\n",
              "1            5  8.288670\n",
              "2           15  8.361273\n",
              "3           16  8.340855\n",
              "4           17  8.204716\n",
              "...        ...       ...\n",
              "199995  499987  8.166846\n",
              "199996  499990  8.310244\n",
              "199997  499991  8.404526\n",
              "199998  499994  8.094573\n",
              "199999  499995  8.143442\n",
              "\n",
              "[200000 rows x 2 columns]"
            ]
          },
          "metadata": {},
          "execution_count": 50
        }
      ]
    },
    {
      "cell_type": "code",
      "metadata": {
        "id": "dQNoo1-ZP4Kd"
      },
      "source": [
        ""
      ],
      "execution_count": null,
      "outputs": []
    }
  ]
}