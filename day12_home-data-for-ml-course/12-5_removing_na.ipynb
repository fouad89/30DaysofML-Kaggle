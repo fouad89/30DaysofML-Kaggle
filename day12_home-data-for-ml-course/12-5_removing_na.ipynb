{
 "cells": [
  {
   "cell_type": "code",
   "execution_count": 1,
   "source": [
    "import numpy as np \n",
    "import pandas as pd\n",
    "import matplotlib.pyplot as plt\n",
    "\n",
    "# modelling\n",
    "from sklearn.model_selection import train_test_split\n",
    "from sklearn.impute import SimpleImputer\n",
    "from sklearn.ensemble import RandomForestRegressor\n",
    "from sklearn.metrics import mean_absolute_error\n"
   ],
   "outputs": [],
   "metadata": {}
  },
  {
   "cell_type": "code",
   "execution_count": 2,
   "source": [
    "\n",
    "full_df = pd.read_csv('./data/train.csv', index_col=\"Id\")\n",
    "X_test_full = pd.read_csv('./data/test.csv', index_col=\"Id\")\n",
    "\n",
    "# dropping rows with missing target \n",
    "full_df.dropna(axis=0, subset=['SalePrice'], inplace=True)\n",
    "# seperate target from features \n",
    "y = full_df.SalePrice\n",
    "full_df.drop('SalePrice', axis=1, inplace = True)\n",
    "\n",
    "# using only numerical columns by removing columns with object type\n",
    "X = full_df.select_dtypes(exclude='object')\n",
    "X_test = X_test_full.select_dtypes(exclude='object')\n",
    "\n",
    "# data split with 80% training \n",
    "X_train, X_val, y_train, y_val = train_test_split(X,y, random_state=1, test_size= 0.2)\n"
   ],
   "outputs": [],
   "metadata": {}
  },
  {
   "cell_type": "code",
   "execution_count": 3,
   "source": [
    "# explort train data\n",
    "X_train.describe()\n",
    "print(X_train.columns)"
   ],
   "outputs": [
    {
     "output_type": "stream",
     "name": "stdout",
     "text": [
      "Index(['MSSubClass', 'LotFrontage', 'LotArea', 'OverallQual', 'OverallCond',\n",
      "       'YearBuilt', 'YearRemodAdd', 'MasVnrArea', 'BsmtFinSF1', 'BsmtFinSF2',\n",
      "       'BsmtUnfSF', 'TotalBsmtSF', '1stFlrSF', '2ndFlrSF', 'LowQualFinSF',\n",
      "       'GrLivArea', 'BsmtFullBath', 'BsmtHalfBath', 'FullBath', 'HalfBath',\n",
      "       'BedroomAbvGr', 'KitchenAbvGr', 'TotRmsAbvGrd', 'Fireplaces',\n",
      "       'GarageYrBlt', 'GarageCars', 'GarageArea', 'WoodDeckSF', 'OpenPorchSF',\n",
      "       'EnclosedPorch', '3SsnPorch', 'ScreenPorch', 'PoolArea', 'MiscVal',\n",
      "       'MoSold', 'YrSold'],\n",
      "      dtype='object')\n"
     ]
    }
   ],
   "metadata": {}
  },
  {
   "cell_type": "code",
   "execution_count": 4,
   "source": [
    "print(X_train.shape)\n",
    "print(X_val.shape)\n",
    "print(X_test.shape)"
   ],
   "outputs": [
    {
     "output_type": "stream",
     "name": "stdout",
     "text": [
      "(1168, 36)\n",
      "(292, 36)\n",
      "(1459, 36)\n"
     ]
    }
   ],
   "metadata": {}
  },
  {
   "cell_type": "code",
   "execution_count": 5,
   "source": [
    "# missing value by column\n",
    "num_missing_val_column = (X_train.isnull().sum())\n",
    "print(num_missing_val_column[num_missing_val_column > 0])\n",
    "\n",
    "\n",
    "\n"
   ],
   "outputs": [
    {
     "output_type": "stream",
     "name": "stdout",
     "text": [
      "LotFrontage    209\n",
      "MasVnrArea       8\n",
      "GarageYrBlt     61\n",
      "dtype: int64\n"
     ]
    }
   ],
   "metadata": {}
  },
  {
   "cell_type": "code",
   "execution_count": null,
   "source": [],
   "outputs": [],
   "metadata": {}
  },
  {
   "cell_type": "code",
   "execution_count": 15,
   "source": [
    "def model_eval(X_t=X_train,X_v=X_val,y_t=y_train,y_v=y_val):\n",
    "    \"\"\"function to evaluate model's mae score   \n",
    "\n",
    "    Args:\n",
    "        model ([type]): [description]\n",
    "        X_t ([type], optional): [training features]. Defaults to X_train.\n",
    "        X_v ([type], optional): [training target]. Defaults to X_val.\n",
    "        y_t ([type], optional): [validation features]. Defaults to y_train.\n",
    "        y_v ([type], optional): [validation features]. Defaults to y_val.\n",
    "    \"\"\"\n",
    "    model = RandomForestRegressor(n_estimators=100, random_state=1)\n",
    "    model.fit(X_t, y_t)\n",
    "    predictions = model.predict(X_v)\n",
    "    return mean_absolute_error(y_v, predictions)\n",
    "\n",
    "    \n",
    "    "
   ],
   "outputs": [],
   "metadata": {}
  },
  {
   "cell_type": "markdown",
   "source": [
    "# Approach 1: Dropping Missing Values"
   ],
   "metadata": {}
  },
  {
   "cell_type": "code",
   "execution_count": 21,
   "source": [
    "\n",
    "cols_with_na = [col for col in X_train.columns if X_train[col].isna().any()]\n",
    "print(cols_with_na)\n",
    "# removing na cols from train and validation sets \n",
    "reduced_X_train = X_train.drop(cols_with_na, axis=1)\n",
    "reduced_X_val = X_val.drop(cols_with_na, axis=1)\n",
    "\n",
    "reduced_X_train.shape"
   ],
   "outputs": [
    {
     "output_type": "stream",
     "name": "stdout",
     "text": [
      "['LotFrontage', 'MasVnrArea', 'GarageYrBlt']\n"
     ]
    },
    {
     "output_type": "execute_result",
     "data": {
      "text/plain": [
       "(1168, 33)"
      ]
     },
     "metadata": {},
     "execution_count": 21
    }
   ],
   "metadata": {}
  },
  {
   "cell_type": "code",
   "execution_count": 30,
   "source": [
    "na_dropped_mae = model_eval(reduced_X_train, reduced_X_val, y_train, y_val)\n",
    "print(f\"When the columns with null values are dropped, MAE is: {na_dropped_mae:.2f}\")\n"
   ],
   "outputs": [
    {
     "output_type": "stream",
     "name": "stdout",
     "text": [
      "When the columns with null values are dropped, MAE is: 16680.64\n"
     ]
    }
   ],
   "metadata": {}
  },
  {
   "cell_type": "markdown",
   "source": [
    "# Approach 2: Imputation"
   ],
   "metadata": {}
  },
  {
   "cell_type": "code",
   "execution_count": 31,
   "source": [
    "imputer = SimpleImputer()\n",
    "imputed_X_train = pd.DataFrame(imputer.fit_transform(X_train), columns = X_train.columns)\n",
    "imputed_X_val = pd.DataFrame(imputer.transform(X_val), columns = X_val.columns)\n",
    "\n",
    "imputed_X_train.shape"
   ],
   "outputs": [
    {
     "output_type": "execute_result",
     "data": {
      "text/plain": [
       "(1168, 36)"
      ]
     },
     "metadata": {},
     "execution_count": 31
    }
   ],
   "metadata": {}
  },
  {
   "cell_type": "code",
   "execution_count": 32,
   "source": [
    "imputed_mae = model_eval(imputed_X_train, imputed_X_val, y_train, y_val)\n",
    "imputed_mae"
   ],
   "outputs": [
    {
     "output_type": "execute_result",
     "data": {
      "text/plain": [
       "16879.41023972603"
      ]
     },
     "metadata": {},
     "execution_count": 32
    }
   ],
   "metadata": {}
  },
  {
   "cell_type": "code",
   "execution_count": null,
   "source": [],
   "outputs": [],
   "metadata": {}
  }
 ],
 "metadata": {
  "orig_nbformat": 4,
  "language_info": {
   "name": "python",
   "version": "3.7.6",
   "mimetype": "text/x-python",
   "codemirror_mode": {
    "name": "ipython",
    "version": 3
   },
   "pygments_lexer": "ipython3",
   "nbconvert_exporter": "python",
   "file_extension": ".py"
  },
  "kernelspec": {
   "name": "python3",
   "display_name": "Python 3.7.6 64-bit ('base': conda)"
  },
  "interpreter": {
   "hash": "016f416f43c7de9d71e7f049375c6b8b903fae571cb02d2ed6c16dadea121115"
  }
 },
 "nbformat": 4,
 "nbformat_minor": 2
}